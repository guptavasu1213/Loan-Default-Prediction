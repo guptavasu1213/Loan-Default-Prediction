{
 "cells": [
  {
   "cell_type": "code",
   "execution_count": 212,
   "metadata": {},
   "outputs": [
    {
     "ename": "ModuleNotFoundError",
     "evalue": "No module named 'imblearn'",
     "output_type": "error",
     "traceback": [
      "\u001b[1;31m---------------------------------------------------------------------------\u001b[0m",
      "\u001b[1;31mModuleNotFoundError\u001b[0m                       Traceback (most recent call last)",
      "\u001b[1;32m<ipython-input-212-fb9447de0a63>\u001b[0m in \u001b[0;36m<module>\u001b[1;34m\u001b[0m\n\u001b[0;32m     22\u001b[0m \u001b[1;32mfrom\u001b[0m \u001b[0msklearn\u001b[0m\u001b[1;33m.\u001b[0m\u001b[0mpreprocessing\u001b[0m \u001b[1;32mimport\u001b[0m \u001b[0mStandardScaler\u001b[0m\u001b[1;33m\u001b[0m\u001b[1;33m\u001b[0m\u001b[0m\n\u001b[0;32m     23\u001b[0m \u001b[1;33m\u001b[0m\u001b[0m\n\u001b[1;32m---> 24\u001b[1;33m \u001b[1;32mfrom\u001b[0m \u001b[0mimblearn\u001b[0m\u001b[1;33m.\u001b[0m\u001b[0mover_sampling\u001b[0m \u001b[1;32mimport\u001b[0m \u001b[0mSMOTE\u001b[0m\u001b[1;33m\u001b[0m\u001b[1;33m\u001b[0m\u001b[0m\n\u001b[0m",
      "\u001b[1;31mModuleNotFoundError\u001b[0m: No module named 'imblearn'"
     ]
    }
   ],
   "source": [
    "#Just easy line to do imports\n",
    "import numpy as np\n",
    "import pandas as pd\n",
    "import matplotlib as mpl\n",
    "import matplotlib.pyplot as plt\n",
    "import seaborn as sns\n",
    "import pydot\n",
    "import scipy as sp\n",
    "\n",
    "from sklearn import preprocessing\n",
    "from sklearn.linear_model import LogisticRegression\n",
    "from sklearn.ensemble import RandomForestClassifier\n",
    "from sklearn.metrics import accuracy_score\n",
    "from sklearn.model_selection import train_test_split\n",
    "from sklearn.tree import export_graphviz\n",
    "from sklearn.metrics import confusion_matrix\n",
    "from sklearn.metrics import precision_score as PS\n",
    "from sklearn.metrics import recall_score as RS\n",
    "from sklearn.metrics import f1_score as FS\n",
    "from sklearn.decomposition import PCA\n",
    "from sklearn.utils import resample\n",
    "from sklearn.preprocessing import StandardScaler\n",
    "\n",
    "from imblearn.over_sampling import SMOTE"
   ]
  },
  {
   "cell_type": "code",
   "execution_count": 88,
   "metadata": {},
   "outputs": [
    {
     "data": {
      "text/html": [
       "<div>\n",
       "<style scoped>\n",
       "    .dataframe tbody tr th:only-of-type {\n",
       "        vertical-align: middle;\n",
       "    }\n",
       "\n",
       "    .dataframe tbody tr th {\n",
       "        vertical-align: top;\n",
       "    }\n",
       "\n",
       "    .dataframe thead th {\n",
       "        text-align: right;\n",
       "    }\n",
       "</style>\n",
       "<table border=\"1\" class=\"dataframe\">\n",
       "  <thead>\n",
       "    <tr style=\"text-align: right;\">\n",
       "      <th></th>\n",
       "      <th>SK_ID_CURR</th>\n",
       "      <th>TARGET</th>\n",
       "      <th>NAME_CONTRACT_TYPE</th>\n",
       "      <th>CODE_GENDER</th>\n",
       "      <th>FLAG_OWN_CAR</th>\n",
       "      <th>FLAG_OWN_REALTY</th>\n",
       "      <th>CNT_CHILDREN</th>\n",
       "      <th>AMT_INCOME_TOTAL</th>\n",
       "      <th>AMT_CREDIT</th>\n",
       "      <th>AMT_ANNUITY</th>\n",
       "      <th>...</th>\n",
       "      <th>FLAG_DOCUMENT_18</th>\n",
       "      <th>FLAG_DOCUMENT_19</th>\n",
       "      <th>FLAG_DOCUMENT_20</th>\n",
       "      <th>FLAG_DOCUMENT_21</th>\n",
       "      <th>AMT_REQ_CREDIT_BUREAU_HOUR</th>\n",
       "      <th>AMT_REQ_CREDIT_BUREAU_DAY</th>\n",
       "      <th>AMT_REQ_CREDIT_BUREAU_WEEK</th>\n",
       "      <th>AMT_REQ_CREDIT_BUREAU_MON</th>\n",
       "      <th>AMT_REQ_CREDIT_BUREAU_QRT</th>\n",
       "      <th>AMT_REQ_CREDIT_BUREAU_YEAR</th>\n",
       "    </tr>\n",
       "  </thead>\n",
       "  <tbody>\n",
       "    <tr>\n",
       "      <td>0</td>\n",
       "      <td>100002</td>\n",
       "      <td>1</td>\n",
       "      <td>Cash loans</td>\n",
       "      <td>M</td>\n",
       "      <td>N</td>\n",
       "      <td>Y</td>\n",
       "      <td>0</td>\n",
       "      <td>202500.0</td>\n",
       "      <td>406597.5</td>\n",
       "      <td>24700.5</td>\n",
       "      <td>...</td>\n",
       "      <td>0</td>\n",
       "      <td>0</td>\n",
       "      <td>0</td>\n",
       "      <td>0</td>\n",
       "      <td>0.0</td>\n",
       "      <td>0.0</td>\n",
       "      <td>0.0</td>\n",
       "      <td>0.0</td>\n",
       "      <td>0.0</td>\n",
       "      <td>1.0</td>\n",
       "    </tr>\n",
       "    <tr>\n",
       "      <td>1</td>\n",
       "      <td>100003</td>\n",
       "      <td>0</td>\n",
       "      <td>Cash loans</td>\n",
       "      <td>F</td>\n",
       "      <td>N</td>\n",
       "      <td>N</td>\n",
       "      <td>0</td>\n",
       "      <td>270000.0</td>\n",
       "      <td>1293502.5</td>\n",
       "      <td>35698.5</td>\n",
       "      <td>...</td>\n",
       "      <td>0</td>\n",
       "      <td>0</td>\n",
       "      <td>0</td>\n",
       "      <td>0</td>\n",
       "      <td>0.0</td>\n",
       "      <td>0.0</td>\n",
       "      <td>0.0</td>\n",
       "      <td>0.0</td>\n",
       "      <td>0.0</td>\n",
       "      <td>0.0</td>\n",
       "    </tr>\n",
       "    <tr>\n",
       "      <td>2</td>\n",
       "      <td>100004</td>\n",
       "      <td>0</td>\n",
       "      <td>Revolving loans</td>\n",
       "      <td>M</td>\n",
       "      <td>Y</td>\n",
       "      <td>Y</td>\n",
       "      <td>0</td>\n",
       "      <td>67500.0</td>\n",
       "      <td>135000.0</td>\n",
       "      <td>6750.0</td>\n",
       "      <td>...</td>\n",
       "      <td>0</td>\n",
       "      <td>0</td>\n",
       "      <td>0</td>\n",
       "      <td>0</td>\n",
       "      <td>0.0</td>\n",
       "      <td>0.0</td>\n",
       "      <td>0.0</td>\n",
       "      <td>0.0</td>\n",
       "      <td>0.0</td>\n",
       "      <td>0.0</td>\n",
       "    </tr>\n",
       "    <tr>\n",
       "      <td>3</td>\n",
       "      <td>100006</td>\n",
       "      <td>0</td>\n",
       "      <td>Cash loans</td>\n",
       "      <td>F</td>\n",
       "      <td>N</td>\n",
       "      <td>Y</td>\n",
       "      <td>0</td>\n",
       "      <td>135000.0</td>\n",
       "      <td>312682.5</td>\n",
       "      <td>29686.5</td>\n",
       "      <td>...</td>\n",
       "      <td>0</td>\n",
       "      <td>0</td>\n",
       "      <td>0</td>\n",
       "      <td>0</td>\n",
       "      <td>NaN</td>\n",
       "      <td>NaN</td>\n",
       "      <td>NaN</td>\n",
       "      <td>NaN</td>\n",
       "      <td>NaN</td>\n",
       "      <td>NaN</td>\n",
       "    </tr>\n",
       "    <tr>\n",
       "      <td>4</td>\n",
       "      <td>100007</td>\n",
       "      <td>0</td>\n",
       "      <td>Cash loans</td>\n",
       "      <td>M</td>\n",
       "      <td>N</td>\n",
       "      <td>Y</td>\n",
       "      <td>0</td>\n",
       "      <td>121500.0</td>\n",
       "      <td>513000.0</td>\n",
       "      <td>21865.5</td>\n",
       "      <td>...</td>\n",
       "      <td>0</td>\n",
       "      <td>0</td>\n",
       "      <td>0</td>\n",
       "      <td>0</td>\n",
       "      <td>0.0</td>\n",
       "      <td>0.0</td>\n",
       "      <td>0.0</td>\n",
       "      <td>0.0</td>\n",
       "      <td>0.0</td>\n",
       "      <td>0.0</td>\n",
       "    </tr>\n",
       "    <tr>\n",
       "      <td>5</td>\n",
       "      <td>100008</td>\n",
       "      <td>0</td>\n",
       "      <td>Cash loans</td>\n",
       "      <td>M</td>\n",
       "      <td>N</td>\n",
       "      <td>Y</td>\n",
       "      <td>0</td>\n",
       "      <td>99000.0</td>\n",
       "      <td>490495.5</td>\n",
       "      <td>27517.5</td>\n",
       "      <td>...</td>\n",
       "      <td>0</td>\n",
       "      <td>0</td>\n",
       "      <td>0</td>\n",
       "      <td>0</td>\n",
       "      <td>0.0</td>\n",
       "      <td>0.0</td>\n",
       "      <td>0.0</td>\n",
       "      <td>0.0</td>\n",
       "      <td>1.0</td>\n",
       "      <td>1.0</td>\n",
       "    </tr>\n",
       "    <tr>\n",
       "      <td>6</td>\n",
       "      <td>100009</td>\n",
       "      <td>0</td>\n",
       "      <td>Cash loans</td>\n",
       "      <td>F</td>\n",
       "      <td>Y</td>\n",
       "      <td>Y</td>\n",
       "      <td>1</td>\n",
       "      <td>171000.0</td>\n",
       "      <td>1560726.0</td>\n",
       "      <td>41301.0</td>\n",
       "      <td>...</td>\n",
       "      <td>0</td>\n",
       "      <td>0</td>\n",
       "      <td>0</td>\n",
       "      <td>0</td>\n",
       "      <td>0.0</td>\n",
       "      <td>0.0</td>\n",
       "      <td>0.0</td>\n",
       "      <td>1.0</td>\n",
       "      <td>1.0</td>\n",
       "      <td>2.0</td>\n",
       "    </tr>\n",
       "    <tr>\n",
       "      <td>7</td>\n",
       "      <td>100010</td>\n",
       "      <td>0</td>\n",
       "      <td>Cash loans</td>\n",
       "      <td>M</td>\n",
       "      <td>Y</td>\n",
       "      <td>Y</td>\n",
       "      <td>0</td>\n",
       "      <td>360000.0</td>\n",
       "      <td>1530000.0</td>\n",
       "      <td>42075.0</td>\n",
       "      <td>...</td>\n",
       "      <td>0</td>\n",
       "      <td>0</td>\n",
       "      <td>0</td>\n",
       "      <td>0</td>\n",
       "      <td>0.0</td>\n",
       "      <td>0.0</td>\n",
       "      <td>0.0</td>\n",
       "      <td>0.0</td>\n",
       "      <td>0.0</td>\n",
       "      <td>0.0</td>\n",
       "    </tr>\n",
       "    <tr>\n",
       "      <td>8</td>\n",
       "      <td>100011</td>\n",
       "      <td>0</td>\n",
       "      <td>Cash loans</td>\n",
       "      <td>F</td>\n",
       "      <td>N</td>\n",
       "      <td>Y</td>\n",
       "      <td>0</td>\n",
       "      <td>112500.0</td>\n",
       "      <td>1019610.0</td>\n",
       "      <td>33826.5</td>\n",
       "      <td>...</td>\n",
       "      <td>0</td>\n",
       "      <td>0</td>\n",
       "      <td>0</td>\n",
       "      <td>0</td>\n",
       "      <td>0.0</td>\n",
       "      <td>0.0</td>\n",
       "      <td>0.0</td>\n",
       "      <td>0.0</td>\n",
       "      <td>0.0</td>\n",
       "      <td>1.0</td>\n",
       "    </tr>\n",
       "    <tr>\n",
       "      <td>9</td>\n",
       "      <td>100012</td>\n",
       "      <td>0</td>\n",
       "      <td>Revolving loans</td>\n",
       "      <td>M</td>\n",
       "      <td>N</td>\n",
       "      <td>Y</td>\n",
       "      <td>0</td>\n",
       "      <td>135000.0</td>\n",
       "      <td>405000.0</td>\n",
       "      <td>20250.0</td>\n",
       "      <td>...</td>\n",
       "      <td>0</td>\n",
       "      <td>0</td>\n",
       "      <td>0</td>\n",
       "      <td>0</td>\n",
       "      <td>NaN</td>\n",
       "      <td>NaN</td>\n",
       "      <td>NaN</td>\n",
       "      <td>NaN</td>\n",
       "      <td>NaN</td>\n",
       "      <td>NaN</td>\n",
       "    </tr>\n",
       "  </tbody>\n",
       "</table>\n",
       "<p>10 rows × 122 columns</p>\n",
       "</div>"
      ],
      "text/plain": [
       "   SK_ID_CURR  TARGET NAME_CONTRACT_TYPE CODE_GENDER FLAG_OWN_CAR  \\\n",
       "0      100002       1         Cash loans           M            N   \n",
       "1      100003       0         Cash loans           F            N   \n",
       "2      100004       0    Revolving loans           M            Y   \n",
       "3      100006       0         Cash loans           F            N   \n",
       "4      100007       0         Cash loans           M            N   \n",
       "5      100008       0         Cash loans           M            N   \n",
       "6      100009       0         Cash loans           F            Y   \n",
       "7      100010       0         Cash loans           M            Y   \n",
       "8      100011       0         Cash loans           F            N   \n",
       "9      100012       0    Revolving loans           M            N   \n",
       "\n",
       "  FLAG_OWN_REALTY  CNT_CHILDREN  AMT_INCOME_TOTAL  AMT_CREDIT  AMT_ANNUITY  \\\n",
       "0               Y             0          202500.0    406597.5      24700.5   \n",
       "1               N             0          270000.0   1293502.5      35698.5   \n",
       "2               Y             0           67500.0    135000.0       6750.0   \n",
       "3               Y             0          135000.0    312682.5      29686.5   \n",
       "4               Y             0          121500.0    513000.0      21865.5   \n",
       "5               Y             0           99000.0    490495.5      27517.5   \n",
       "6               Y             1          171000.0   1560726.0      41301.0   \n",
       "7               Y             0          360000.0   1530000.0      42075.0   \n",
       "8               Y             0          112500.0   1019610.0      33826.5   \n",
       "9               Y             0          135000.0    405000.0      20250.0   \n",
       "\n",
       "   ...  FLAG_DOCUMENT_18 FLAG_DOCUMENT_19 FLAG_DOCUMENT_20 FLAG_DOCUMENT_21  \\\n",
       "0  ...                 0                0                0                0   \n",
       "1  ...                 0                0                0                0   \n",
       "2  ...                 0                0                0                0   \n",
       "3  ...                 0                0                0                0   \n",
       "4  ...                 0                0                0                0   \n",
       "5  ...                 0                0                0                0   \n",
       "6  ...                 0                0                0                0   \n",
       "7  ...                 0                0                0                0   \n",
       "8  ...                 0                0                0                0   \n",
       "9  ...                 0                0                0                0   \n",
       "\n",
       "  AMT_REQ_CREDIT_BUREAU_HOUR AMT_REQ_CREDIT_BUREAU_DAY  \\\n",
       "0                        0.0                       0.0   \n",
       "1                        0.0                       0.0   \n",
       "2                        0.0                       0.0   \n",
       "3                        NaN                       NaN   \n",
       "4                        0.0                       0.0   \n",
       "5                        0.0                       0.0   \n",
       "6                        0.0                       0.0   \n",
       "7                        0.0                       0.0   \n",
       "8                        0.0                       0.0   \n",
       "9                        NaN                       NaN   \n",
       "\n",
       "   AMT_REQ_CREDIT_BUREAU_WEEK  AMT_REQ_CREDIT_BUREAU_MON  \\\n",
       "0                         0.0                        0.0   \n",
       "1                         0.0                        0.0   \n",
       "2                         0.0                        0.0   \n",
       "3                         NaN                        NaN   \n",
       "4                         0.0                        0.0   \n",
       "5                         0.0                        0.0   \n",
       "6                         0.0                        1.0   \n",
       "7                         0.0                        0.0   \n",
       "8                         0.0                        0.0   \n",
       "9                         NaN                        NaN   \n",
       "\n",
       "   AMT_REQ_CREDIT_BUREAU_QRT  AMT_REQ_CREDIT_BUREAU_YEAR  \n",
       "0                        0.0                         1.0  \n",
       "1                        0.0                         0.0  \n",
       "2                        0.0                         0.0  \n",
       "3                        NaN                         NaN  \n",
       "4                        0.0                         0.0  \n",
       "5                        1.0                         1.0  \n",
       "6                        1.0                         2.0  \n",
       "7                        0.0                         0.0  \n",
       "8                        0.0                         1.0  \n",
       "9                        NaN                         NaN  \n",
       "\n",
       "[10 rows x 122 columns]"
      ]
     },
     "execution_count": 88,
     "metadata": {},
     "output_type": "execute_result"
    }
   ],
   "source": [
    "#This gets the data\n",
    "app_data = pd.read_csv('dataset/application_data.csv') #App data is for their specific application to the data\n",
    "app_data.head(10)"
   ]
  },
  {
   "cell_type": "code",
   "execution_count": 89,
   "metadata": {},
   "outputs": [
    {
     "name": "stdout",
     "output_type": "stream",
     "text": [
      "(307511, 122)\n"
     ]
    }
   ],
   "source": [
    "print(app_data.shape) #Just so we know the amount of data we're working with"
   ]
  },
  {
   "cell_type": "code",
   "execution_count": 90,
   "metadata": {},
   "outputs": [
    {
     "data": {
      "text/plain": [
       "float64    65\n",
       "int64      41\n",
       "object     16\n",
       "dtype: int64"
      ]
     },
     "execution_count": 90,
     "metadata": {},
     "output_type": "execute_result"
    }
   ],
   "source": [
    "#This one is to determine what things we have to change\n",
    "app_data.dtypes.value_counts()"
   ]
  },
  {
   "cell_type": "markdown",
   "metadata": {},
   "source": [
    "So we need to adjust 16 columns to be effectively used. Scikit has a built-in for this."
   ]
  },
  {
   "cell_type": "code",
   "execution_count": 91,
   "metadata": {},
   "outputs": [
    {
     "data": {
      "text/html": [
       "<div>\n",
       "<style scoped>\n",
       "    .dataframe tbody tr th:only-of-type {\n",
       "        vertical-align: middle;\n",
       "    }\n",
       "\n",
       "    .dataframe tbody tr th {\n",
       "        vertical-align: top;\n",
       "    }\n",
       "\n",
       "    .dataframe thead th {\n",
       "        text-align: right;\n",
       "    }\n",
       "</style>\n",
       "<table border=\"1\" class=\"dataframe\">\n",
       "  <thead>\n",
       "    <tr style=\"text-align: right;\">\n",
       "      <th></th>\n",
       "      <th>SK_ID_CURR</th>\n",
       "      <th>TARGET</th>\n",
       "      <th>NAME_CONTRACT_TYPE</th>\n",
       "      <th>CODE_GENDER</th>\n",
       "      <th>FLAG_OWN_CAR</th>\n",
       "      <th>FLAG_OWN_REALTY</th>\n",
       "      <th>CNT_CHILDREN</th>\n",
       "      <th>AMT_INCOME_TOTAL</th>\n",
       "      <th>AMT_CREDIT</th>\n",
       "      <th>AMT_ANNUITY</th>\n",
       "      <th>...</th>\n",
       "      <th>FLAG_DOCUMENT_18</th>\n",
       "      <th>FLAG_DOCUMENT_19</th>\n",
       "      <th>FLAG_DOCUMENT_20</th>\n",
       "      <th>FLAG_DOCUMENT_21</th>\n",
       "      <th>AMT_REQ_CREDIT_BUREAU_HOUR</th>\n",
       "      <th>AMT_REQ_CREDIT_BUREAU_DAY</th>\n",
       "      <th>AMT_REQ_CREDIT_BUREAU_WEEK</th>\n",
       "      <th>AMT_REQ_CREDIT_BUREAU_MON</th>\n",
       "      <th>AMT_REQ_CREDIT_BUREAU_QRT</th>\n",
       "      <th>AMT_REQ_CREDIT_BUREAU_YEAR</th>\n",
       "    </tr>\n",
       "  </thead>\n",
       "  <tbody>\n",
       "    <tr>\n",
       "      <td>count</td>\n",
       "      <td>307511</td>\n",
       "      <td>307511</td>\n",
       "      <td>307511</td>\n",
       "      <td>307511</td>\n",
       "      <td>307511</td>\n",
       "      <td>307511</td>\n",
       "      <td>307511</td>\n",
       "      <td>307511</td>\n",
       "      <td>307511</td>\n",
       "      <td>307499</td>\n",
       "      <td>...</td>\n",
       "      <td>307511</td>\n",
       "      <td>307511</td>\n",
       "      <td>307511</td>\n",
       "      <td>307511</td>\n",
       "      <td>265992</td>\n",
       "      <td>265992</td>\n",
       "      <td>265992</td>\n",
       "      <td>265992</td>\n",
       "      <td>265992</td>\n",
       "      <td>265992</td>\n",
       "    </tr>\n",
       "    <tr>\n",
       "      <td>size</td>\n",
       "      <td>307511</td>\n",
       "      <td>307511</td>\n",
       "      <td>307511</td>\n",
       "      <td>307511</td>\n",
       "      <td>307511</td>\n",
       "      <td>307511</td>\n",
       "      <td>307511</td>\n",
       "      <td>307511</td>\n",
       "      <td>307511</td>\n",
       "      <td>307511</td>\n",
       "      <td>...</td>\n",
       "      <td>307511</td>\n",
       "      <td>307511</td>\n",
       "      <td>307511</td>\n",
       "      <td>307511</td>\n",
       "      <td>307511</td>\n",
       "      <td>307511</td>\n",
       "      <td>307511</td>\n",
       "      <td>307511</td>\n",
       "      <td>307511</td>\n",
       "      <td>307511</td>\n",
       "    </tr>\n",
       "    <tr>\n",
       "      <td>nunique</td>\n",
       "      <td>307511</td>\n",
       "      <td>2</td>\n",
       "      <td>2</td>\n",
       "      <td>3</td>\n",
       "      <td>2</td>\n",
       "      <td>2</td>\n",
       "      <td>15</td>\n",
       "      <td>2548</td>\n",
       "      <td>5603</td>\n",
       "      <td>13672</td>\n",
       "      <td>...</td>\n",
       "      <td>2</td>\n",
       "      <td>2</td>\n",
       "      <td>2</td>\n",
       "      <td>2</td>\n",
       "      <td>5</td>\n",
       "      <td>9</td>\n",
       "      <td>9</td>\n",
       "      <td>24</td>\n",
       "      <td>11</td>\n",
       "      <td>25</td>\n",
       "    </tr>\n",
       "  </tbody>\n",
       "</table>\n",
       "<p>3 rows × 122 columns</p>\n",
       "</div>"
      ],
      "text/plain": [
       "         SK_ID_CURR  TARGET  NAME_CONTRACT_TYPE  CODE_GENDER  FLAG_OWN_CAR  \\\n",
       "count        307511  307511              307511       307511        307511   \n",
       "size         307511  307511              307511       307511        307511   \n",
       "nunique      307511       2                   2            3             2   \n",
       "\n",
       "         FLAG_OWN_REALTY  CNT_CHILDREN  AMT_INCOME_TOTAL  AMT_CREDIT  \\\n",
       "count             307511        307511            307511      307511   \n",
       "size              307511        307511            307511      307511   \n",
       "nunique                2            15              2548        5603   \n",
       "\n",
       "         AMT_ANNUITY  ...  FLAG_DOCUMENT_18  FLAG_DOCUMENT_19  \\\n",
       "count         307499  ...            307511            307511   \n",
       "size          307511  ...            307511            307511   \n",
       "nunique        13672  ...                 2                 2   \n",
       "\n",
       "         FLAG_DOCUMENT_20  FLAG_DOCUMENT_21  AMT_REQ_CREDIT_BUREAU_HOUR  \\\n",
       "count              307511            307511                      265992   \n",
       "size               307511            307511                      307511   \n",
       "nunique                 2                 2                           5   \n",
       "\n",
       "         AMT_REQ_CREDIT_BUREAU_DAY  AMT_REQ_CREDIT_BUREAU_WEEK  \\\n",
       "count                       265992                      265992   \n",
       "size                        307511                      307511   \n",
       "nunique                          9                           9   \n",
       "\n",
       "         AMT_REQ_CREDIT_BUREAU_MON  AMT_REQ_CREDIT_BUREAU_QRT  \\\n",
       "count                       265992                     265992   \n",
       "size                        307511                     307511   \n",
       "nunique                         24                         11   \n",
       "\n",
       "         AMT_REQ_CREDIT_BUREAU_YEAR  \n",
       "count                        265992  \n",
       "size                         307511  \n",
       "nunique                          25  \n",
       "\n",
       "[3 rows x 122 columns]"
      ]
     },
     "execution_count": 91,
     "metadata": {},
     "output_type": "execute_result"
    }
   ],
   "source": [
    "app_data.agg(['count', 'size', 'nunique'])"
   ]
  },
  {
   "cell_type": "code",
   "execution_count": 92,
   "metadata": {},
   "outputs": [],
   "source": [
    "#Calculation for how much data is missing.\n",
    "def meta_data(data):\n",
    "    total = data.isnull().sum()\n",
    "    percent = (total / data.isnull().count()) * 100\n",
    "    unique = data.nunique()\n",
    "    datatype = data.dtypes\n",
    "    return pd.concat([total, percent, unique, datatype], axis=1, keys=['Total', 'Percent', 'Unique', 'Data_Type']).sort_values(by = 'Percent', ascending=False)"
   ]
  },
  {
   "cell_type": "code",
   "execution_count": 93,
   "metadata": {},
   "outputs": [
    {
     "data": {
      "text/html": [
       "<div>\n",
       "<style scoped>\n",
       "    .dataframe tbody tr th:only-of-type {\n",
       "        vertical-align: middle;\n",
       "    }\n",
       "\n",
       "    .dataframe tbody tr th {\n",
       "        vertical-align: top;\n",
       "    }\n",
       "\n",
       "    .dataframe thead th {\n",
       "        text-align: right;\n",
       "    }\n",
       "</style>\n",
       "<table border=\"1\" class=\"dataframe\">\n",
       "  <thead>\n",
       "    <tr style=\"text-align: right;\">\n",
       "      <th></th>\n",
       "      <th>Total</th>\n",
       "      <th>Percent</th>\n",
       "      <th>Unique</th>\n",
       "      <th>Data_Type</th>\n",
       "    </tr>\n",
       "  </thead>\n",
       "  <tbody>\n",
       "    <tr>\n",
       "      <td>COMMONAREA_MEDI</td>\n",
       "      <td>214865</td>\n",
       "      <td>69.872297</td>\n",
       "      <td>3202</td>\n",
       "      <td>float64</td>\n",
       "    </tr>\n",
       "    <tr>\n",
       "      <td>COMMONAREA_AVG</td>\n",
       "      <td>214865</td>\n",
       "      <td>69.872297</td>\n",
       "      <td>3181</td>\n",
       "      <td>float64</td>\n",
       "    </tr>\n",
       "    <tr>\n",
       "      <td>COMMONAREA_MODE</td>\n",
       "      <td>214865</td>\n",
       "      <td>69.872297</td>\n",
       "      <td>3128</td>\n",
       "      <td>float64</td>\n",
       "    </tr>\n",
       "    <tr>\n",
       "      <td>NONLIVINGAPARTMENTS_MODE</td>\n",
       "      <td>213514</td>\n",
       "      <td>69.432963</td>\n",
       "      <td>167</td>\n",
       "      <td>float64</td>\n",
       "    </tr>\n",
       "    <tr>\n",
       "      <td>NONLIVINGAPARTMENTS_AVG</td>\n",
       "      <td>213514</td>\n",
       "      <td>69.432963</td>\n",
       "      <td>386</td>\n",
       "      <td>float64</td>\n",
       "    </tr>\n",
       "    <tr>\n",
       "      <td>NONLIVINGAPARTMENTS_MEDI</td>\n",
       "      <td>213514</td>\n",
       "      <td>69.432963</td>\n",
       "      <td>214</td>\n",
       "      <td>float64</td>\n",
       "    </tr>\n",
       "    <tr>\n",
       "      <td>FONDKAPREMONT_MODE</td>\n",
       "      <td>210295</td>\n",
       "      <td>68.386172</td>\n",
       "      <td>4</td>\n",
       "      <td>object</td>\n",
       "    </tr>\n",
       "    <tr>\n",
       "      <td>LIVINGAPARTMENTS_MODE</td>\n",
       "      <td>210199</td>\n",
       "      <td>68.354953</td>\n",
       "      <td>736</td>\n",
       "      <td>float64</td>\n",
       "    </tr>\n",
       "    <tr>\n",
       "      <td>LIVINGAPARTMENTS_AVG</td>\n",
       "      <td>210199</td>\n",
       "      <td>68.354953</td>\n",
       "      <td>1868</td>\n",
       "      <td>float64</td>\n",
       "    </tr>\n",
       "    <tr>\n",
       "      <td>LIVINGAPARTMENTS_MEDI</td>\n",
       "      <td>210199</td>\n",
       "      <td>68.354953</td>\n",
       "      <td>1097</td>\n",
       "      <td>float64</td>\n",
       "    </tr>\n",
       "    <tr>\n",
       "      <td>FLOORSMIN_AVG</td>\n",
       "      <td>208642</td>\n",
       "      <td>67.848630</td>\n",
       "      <td>305</td>\n",
       "      <td>float64</td>\n",
       "    </tr>\n",
       "    <tr>\n",
       "      <td>FLOORSMIN_MODE</td>\n",
       "      <td>208642</td>\n",
       "      <td>67.848630</td>\n",
       "      <td>25</td>\n",
       "      <td>float64</td>\n",
       "    </tr>\n",
       "    <tr>\n",
       "      <td>FLOORSMIN_MEDI</td>\n",
       "      <td>208642</td>\n",
       "      <td>67.848630</td>\n",
       "      <td>47</td>\n",
       "      <td>float64</td>\n",
       "    </tr>\n",
       "    <tr>\n",
       "      <td>YEARS_BUILD_MEDI</td>\n",
       "      <td>204488</td>\n",
       "      <td>66.497784</td>\n",
       "      <td>151</td>\n",
       "      <td>float64</td>\n",
       "    </tr>\n",
       "    <tr>\n",
       "      <td>YEARS_BUILD_MODE</td>\n",
       "      <td>204488</td>\n",
       "      <td>66.497784</td>\n",
       "      <td>154</td>\n",
       "      <td>float64</td>\n",
       "    </tr>\n",
       "    <tr>\n",
       "      <td>YEARS_BUILD_AVG</td>\n",
       "      <td>204488</td>\n",
       "      <td>66.497784</td>\n",
       "      <td>149</td>\n",
       "      <td>float64</td>\n",
       "    </tr>\n",
       "    <tr>\n",
       "      <td>OWN_CAR_AGE</td>\n",
       "      <td>202929</td>\n",
       "      <td>65.990810</td>\n",
       "      <td>62</td>\n",
       "      <td>float64</td>\n",
       "    </tr>\n",
       "    <tr>\n",
       "      <td>LANDAREA_MEDI</td>\n",
       "      <td>182590</td>\n",
       "      <td>59.376738</td>\n",
       "      <td>3560</td>\n",
       "      <td>float64</td>\n",
       "    </tr>\n",
       "    <tr>\n",
       "      <td>LANDAREA_MODE</td>\n",
       "      <td>182590</td>\n",
       "      <td>59.376738</td>\n",
       "      <td>3563</td>\n",
       "      <td>float64</td>\n",
       "    </tr>\n",
       "    <tr>\n",
       "      <td>LANDAREA_AVG</td>\n",
       "      <td>182590</td>\n",
       "      <td>59.376738</td>\n",
       "      <td>3527</td>\n",
       "      <td>float64</td>\n",
       "    </tr>\n",
       "    <tr>\n",
       "      <td>BASEMENTAREA_MEDI</td>\n",
       "      <td>179943</td>\n",
       "      <td>58.515956</td>\n",
       "      <td>3772</td>\n",
       "      <td>float64</td>\n",
       "    </tr>\n",
       "    <tr>\n",
       "      <td>BASEMENTAREA_AVG</td>\n",
       "      <td>179943</td>\n",
       "      <td>58.515956</td>\n",
       "      <td>3780</td>\n",
       "      <td>float64</td>\n",
       "    </tr>\n",
       "    <tr>\n",
       "      <td>BASEMENTAREA_MODE</td>\n",
       "      <td>179943</td>\n",
       "      <td>58.515956</td>\n",
       "      <td>3841</td>\n",
       "      <td>float64</td>\n",
       "    </tr>\n",
       "    <tr>\n",
       "      <td>EXT_SOURCE_1</td>\n",
       "      <td>173378</td>\n",
       "      <td>56.381073</td>\n",
       "      <td>114584</td>\n",
       "      <td>float64</td>\n",
       "    </tr>\n",
       "    <tr>\n",
       "      <td>NONLIVINGAREA_MODE</td>\n",
       "      <td>169682</td>\n",
       "      <td>55.179164</td>\n",
       "      <td>3327</td>\n",
       "      <td>float64</td>\n",
       "    </tr>\n",
       "    <tr>\n",
       "      <td>NONLIVINGAREA_AVG</td>\n",
       "      <td>169682</td>\n",
       "      <td>55.179164</td>\n",
       "      <td>3290</td>\n",
       "      <td>float64</td>\n",
       "    </tr>\n",
       "    <tr>\n",
       "      <td>NONLIVINGAREA_MEDI</td>\n",
       "      <td>169682</td>\n",
       "      <td>55.179164</td>\n",
       "      <td>3323</td>\n",
       "      <td>float64</td>\n",
       "    </tr>\n",
       "    <tr>\n",
       "      <td>ELEVATORS_MEDI</td>\n",
       "      <td>163891</td>\n",
       "      <td>53.295980</td>\n",
       "      <td>46</td>\n",
       "      <td>float64</td>\n",
       "    </tr>\n",
       "    <tr>\n",
       "      <td>ELEVATORS_AVG</td>\n",
       "      <td>163891</td>\n",
       "      <td>53.295980</td>\n",
       "      <td>257</td>\n",
       "      <td>float64</td>\n",
       "    </tr>\n",
       "    <tr>\n",
       "      <td>ELEVATORS_MODE</td>\n",
       "      <td>163891</td>\n",
       "      <td>53.295980</td>\n",
       "      <td>26</td>\n",
       "      <td>float64</td>\n",
       "    </tr>\n",
       "  </tbody>\n",
       "</table>\n",
       "</div>"
      ],
      "text/plain": [
       "                           Total    Percent  Unique Data_Type\n",
       "COMMONAREA_MEDI           214865  69.872297    3202   float64\n",
       "COMMONAREA_AVG            214865  69.872297    3181   float64\n",
       "COMMONAREA_MODE           214865  69.872297    3128   float64\n",
       "NONLIVINGAPARTMENTS_MODE  213514  69.432963     167   float64\n",
       "NONLIVINGAPARTMENTS_AVG   213514  69.432963     386   float64\n",
       "NONLIVINGAPARTMENTS_MEDI  213514  69.432963     214   float64\n",
       "FONDKAPREMONT_MODE        210295  68.386172       4    object\n",
       "LIVINGAPARTMENTS_MODE     210199  68.354953     736   float64\n",
       "LIVINGAPARTMENTS_AVG      210199  68.354953    1868   float64\n",
       "LIVINGAPARTMENTS_MEDI     210199  68.354953    1097   float64\n",
       "FLOORSMIN_AVG             208642  67.848630     305   float64\n",
       "FLOORSMIN_MODE            208642  67.848630      25   float64\n",
       "FLOORSMIN_MEDI            208642  67.848630      47   float64\n",
       "YEARS_BUILD_MEDI          204488  66.497784     151   float64\n",
       "YEARS_BUILD_MODE          204488  66.497784     154   float64\n",
       "YEARS_BUILD_AVG           204488  66.497784     149   float64\n",
       "OWN_CAR_AGE               202929  65.990810      62   float64\n",
       "LANDAREA_MEDI             182590  59.376738    3560   float64\n",
       "LANDAREA_MODE             182590  59.376738    3563   float64\n",
       "LANDAREA_AVG              182590  59.376738    3527   float64\n",
       "BASEMENTAREA_MEDI         179943  58.515956    3772   float64\n",
       "BASEMENTAREA_AVG          179943  58.515956    3780   float64\n",
       "BASEMENTAREA_MODE         179943  58.515956    3841   float64\n",
       "EXT_SOURCE_1              173378  56.381073  114584   float64\n",
       "NONLIVINGAREA_MODE        169682  55.179164    3327   float64\n",
       "NONLIVINGAREA_AVG         169682  55.179164    3290   float64\n",
       "NONLIVINGAREA_MEDI        169682  55.179164    3323   float64\n",
       "ELEVATORS_MEDI            163891  53.295980      46   float64\n",
       "ELEVATORS_AVG             163891  53.295980     257   float64\n",
       "ELEVATORS_MODE            163891  53.295980      26   float64"
      ]
     },
     "execution_count": 93,
     "metadata": {},
     "output_type": "execute_result"
    }
   ],
   "source": [
    "metData = meta_data(app_data)\n",
    "metData.head(30)"
   ]
  },
  {
   "cell_type": "markdown",
   "metadata": {},
   "source": [
    "This one is to get rid of columns with to much missing data. I used 56.4% as my cutoff for missing data."
   ]
  },
  {
   "cell_type": "code",
   "execution_count": 94,
   "metadata": {
    "scrolled": true
   },
   "outputs": [
    {
     "data": {
      "text/html": [
       "<div>\n",
       "<style scoped>\n",
       "    .dataframe tbody tr th:only-of-type {\n",
       "        vertical-align: middle;\n",
       "    }\n",
       "\n",
       "    .dataframe tbody tr th {\n",
       "        vertical-align: top;\n",
       "    }\n",
       "\n",
       "    .dataframe thead th {\n",
       "        text-align: right;\n",
       "    }\n",
       "</style>\n",
       "<table border=\"1\" class=\"dataframe\">\n",
       "  <thead>\n",
       "    <tr style=\"text-align: right;\">\n",
       "      <th></th>\n",
       "      <th>EXT_SOURCE_1</th>\n",
       "      <th>NONLIVINGAREA_MODE</th>\n",
       "      <th>NONLIVINGAREA_AVG</th>\n",
       "      <th>NONLIVINGAREA_MEDI</th>\n",
       "      <th>ELEVATORS_MEDI</th>\n",
       "      <th>ELEVATORS_AVG</th>\n",
       "      <th>ELEVATORS_MODE</th>\n",
       "      <th>APARTMENTS_MEDI</th>\n",
       "      <th>APARTMENTS_AVG</th>\n",
       "      <th>APARTMENTS_MODE</th>\n",
       "      <th>...</th>\n",
       "      <th>FLAG_CONT_MOBILE</th>\n",
       "      <th>FLAG_WORK_PHONE</th>\n",
       "      <th>FLAG_EMP_PHONE</th>\n",
       "      <th>FLAG_MOBIL</th>\n",
       "      <th>DAYS_ID_PUBLISH</th>\n",
       "      <th>DAYS_REGISTRATION</th>\n",
       "      <th>DAYS_EMPLOYED</th>\n",
       "      <th>DAYS_BIRTH</th>\n",
       "      <th>REGION_POPULATION_RELATIVE</th>\n",
       "      <th>SK_ID_CURR</th>\n",
       "    </tr>\n",
       "  </thead>\n",
       "  <tbody>\n",
       "    <tr>\n",
       "      <td>count</td>\n",
       "      <td>134133.000000</td>\n",
       "      <td>137829.000000</td>\n",
       "      <td>137829.000000</td>\n",
       "      <td>137829.000000</td>\n",
       "      <td>143620.000000</td>\n",
       "      <td>143620.000000</td>\n",
       "      <td>143620.000000</td>\n",
       "      <td>151450.000000</td>\n",
       "      <td>151450.00000</td>\n",
       "      <td>151450.000000</td>\n",
       "      <td>...</td>\n",
       "      <td>307511.000000</td>\n",
       "      <td>307511.000000</td>\n",
       "      <td>307511.000000</td>\n",
       "      <td>307511.000000</td>\n",
       "      <td>307511.000000</td>\n",
       "      <td>307511.000000</td>\n",
       "      <td>307511.000000</td>\n",
       "      <td>307511.000000</td>\n",
       "      <td>307511.000000</td>\n",
       "      <td>307511.000000</td>\n",
       "    </tr>\n",
       "    <tr>\n",
       "      <td>mean</td>\n",
       "      <td>0.502130</td>\n",
       "      <td>0.027022</td>\n",
       "      <td>0.028358</td>\n",
       "      <td>0.028236</td>\n",
       "      <td>0.078078</td>\n",
       "      <td>0.078942</td>\n",
       "      <td>0.074490</td>\n",
       "      <td>0.117850</td>\n",
       "      <td>0.11744</td>\n",
       "      <td>0.114231</td>\n",
       "      <td>...</td>\n",
       "      <td>0.998133</td>\n",
       "      <td>0.199368</td>\n",
       "      <td>0.819889</td>\n",
       "      <td>0.999997</td>\n",
       "      <td>-2994.202373</td>\n",
       "      <td>-4986.120328</td>\n",
       "      <td>63815.045904</td>\n",
       "      <td>-16036.995067</td>\n",
       "      <td>0.020868</td>\n",
       "      <td>278180.518577</td>\n",
       "    </tr>\n",
       "    <tr>\n",
       "      <td>std</td>\n",
       "      <td>0.211062</td>\n",
       "      <td>0.070254</td>\n",
       "      <td>0.069523</td>\n",
       "      <td>0.070166</td>\n",
       "      <td>0.134467</td>\n",
       "      <td>0.134576</td>\n",
       "      <td>0.132256</td>\n",
       "      <td>0.109076</td>\n",
       "      <td>0.10824</td>\n",
       "      <td>0.107936</td>\n",
       "      <td>...</td>\n",
       "      <td>0.043164</td>\n",
       "      <td>0.399526</td>\n",
       "      <td>0.384280</td>\n",
       "      <td>0.001803</td>\n",
       "      <td>1509.450419</td>\n",
       "      <td>3522.886321</td>\n",
       "      <td>141275.766519</td>\n",
       "      <td>4363.988632</td>\n",
       "      <td>0.013831</td>\n",
       "      <td>102790.175348</td>\n",
       "    </tr>\n",
       "    <tr>\n",
       "      <td>min</td>\n",
       "      <td>0.014568</td>\n",
       "      <td>0.000000</td>\n",
       "      <td>0.000000</td>\n",
       "      <td>0.000000</td>\n",
       "      <td>0.000000</td>\n",
       "      <td>0.000000</td>\n",
       "      <td>0.000000</td>\n",
       "      <td>0.000000</td>\n",
       "      <td>0.00000</td>\n",
       "      <td>0.000000</td>\n",
       "      <td>...</td>\n",
       "      <td>0.000000</td>\n",
       "      <td>0.000000</td>\n",
       "      <td>0.000000</td>\n",
       "      <td>0.000000</td>\n",
       "      <td>-7197.000000</td>\n",
       "      <td>-24672.000000</td>\n",
       "      <td>-17912.000000</td>\n",
       "      <td>-25229.000000</td>\n",
       "      <td>0.000290</td>\n",
       "      <td>100002.000000</td>\n",
       "    </tr>\n",
       "    <tr>\n",
       "      <td>25%</td>\n",
       "      <td>0.334007</td>\n",
       "      <td>0.000000</td>\n",
       "      <td>0.000000</td>\n",
       "      <td>0.000000</td>\n",
       "      <td>0.000000</td>\n",
       "      <td>0.000000</td>\n",
       "      <td>0.000000</td>\n",
       "      <td>0.058300</td>\n",
       "      <td>0.05770</td>\n",
       "      <td>0.052500</td>\n",
       "      <td>...</td>\n",
       "      <td>1.000000</td>\n",
       "      <td>0.000000</td>\n",
       "      <td>1.000000</td>\n",
       "      <td>1.000000</td>\n",
       "      <td>-4299.000000</td>\n",
       "      <td>-7479.500000</td>\n",
       "      <td>-2760.000000</td>\n",
       "      <td>-19682.000000</td>\n",
       "      <td>0.010006</td>\n",
       "      <td>189145.500000</td>\n",
       "    </tr>\n",
       "    <tr>\n",
       "      <td>50%</td>\n",
       "      <td>0.505998</td>\n",
       "      <td>0.001100</td>\n",
       "      <td>0.003600</td>\n",
       "      <td>0.003100</td>\n",
       "      <td>0.000000</td>\n",
       "      <td>0.000000</td>\n",
       "      <td>0.000000</td>\n",
       "      <td>0.086400</td>\n",
       "      <td>0.08760</td>\n",
       "      <td>0.084000</td>\n",
       "      <td>...</td>\n",
       "      <td>1.000000</td>\n",
       "      <td>0.000000</td>\n",
       "      <td>1.000000</td>\n",
       "      <td>1.000000</td>\n",
       "      <td>-3254.000000</td>\n",
       "      <td>-4504.000000</td>\n",
       "      <td>-1213.000000</td>\n",
       "      <td>-15750.000000</td>\n",
       "      <td>0.018850</td>\n",
       "      <td>278202.000000</td>\n",
       "    </tr>\n",
       "    <tr>\n",
       "      <td>75%</td>\n",
       "      <td>0.675053</td>\n",
       "      <td>0.023100</td>\n",
       "      <td>0.027700</td>\n",
       "      <td>0.026600</td>\n",
       "      <td>0.120000</td>\n",
       "      <td>0.120000</td>\n",
       "      <td>0.120800</td>\n",
       "      <td>0.148900</td>\n",
       "      <td>0.14850</td>\n",
       "      <td>0.143900</td>\n",
       "      <td>...</td>\n",
       "      <td>1.000000</td>\n",
       "      <td>0.000000</td>\n",
       "      <td>1.000000</td>\n",
       "      <td>1.000000</td>\n",
       "      <td>-1720.000000</td>\n",
       "      <td>-2010.000000</td>\n",
       "      <td>-289.000000</td>\n",
       "      <td>-12413.000000</td>\n",
       "      <td>0.028663</td>\n",
       "      <td>367142.500000</td>\n",
       "    </tr>\n",
       "    <tr>\n",
       "      <td>max</td>\n",
       "      <td>0.962693</td>\n",
       "      <td>1.000000</td>\n",
       "      <td>1.000000</td>\n",
       "      <td>1.000000</td>\n",
       "      <td>1.000000</td>\n",
       "      <td>1.000000</td>\n",
       "      <td>1.000000</td>\n",
       "      <td>1.000000</td>\n",
       "      <td>1.00000</td>\n",
       "      <td>1.000000</td>\n",
       "      <td>...</td>\n",
       "      <td>1.000000</td>\n",
       "      <td>1.000000</td>\n",
       "      <td>1.000000</td>\n",
       "      <td>1.000000</td>\n",
       "      <td>0.000000</td>\n",
       "      <td>0.000000</td>\n",
       "      <td>365243.000000</td>\n",
       "      <td>-7489.000000</td>\n",
       "      <td>0.072508</td>\n",
       "      <td>456255.000000</td>\n",
       "    </tr>\n",
       "  </tbody>\n",
       "</table>\n",
       "<p>8 rows × 84 columns</p>\n",
       "</div>"
      ],
      "text/plain": [
       "        EXT_SOURCE_1  NONLIVINGAREA_MODE  NONLIVINGAREA_AVG  \\\n",
       "count  134133.000000       137829.000000      137829.000000   \n",
       "mean        0.502130            0.027022           0.028358   \n",
       "std         0.211062            0.070254           0.069523   \n",
       "min         0.014568            0.000000           0.000000   \n",
       "25%         0.334007            0.000000           0.000000   \n",
       "50%         0.505998            0.001100           0.003600   \n",
       "75%         0.675053            0.023100           0.027700   \n",
       "max         0.962693            1.000000           1.000000   \n",
       "\n",
       "       NONLIVINGAREA_MEDI  ELEVATORS_MEDI  ELEVATORS_AVG  ELEVATORS_MODE  \\\n",
       "count       137829.000000   143620.000000  143620.000000   143620.000000   \n",
       "mean             0.028236        0.078078       0.078942        0.074490   \n",
       "std              0.070166        0.134467       0.134576        0.132256   \n",
       "min              0.000000        0.000000       0.000000        0.000000   \n",
       "25%              0.000000        0.000000       0.000000        0.000000   \n",
       "50%              0.003100        0.000000       0.000000        0.000000   \n",
       "75%              0.026600        0.120000       0.120000        0.120800   \n",
       "max              1.000000        1.000000       1.000000        1.000000   \n",
       "\n",
       "       APARTMENTS_MEDI  APARTMENTS_AVG  APARTMENTS_MODE  ...  \\\n",
       "count    151450.000000    151450.00000    151450.000000  ...   \n",
       "mean          0.117850         0.11744         0.114231  ...   \n",
       "std           0.109076         0.10824         0.107936  ...   \n",
       "min           0.000000         0.00000         0.000000  ...   \n",
       "25%           0.058300         0.05770         0.052500  ...   \n",
       "50%           0.086400         0.08760         0.084000  ...   \n",
       "75%           0.148900         0.14850         0.143900  ...   \n",
       "max           1.000000         1.00000         1.000000  ...   \n",
       "\n",
       "       FLAG_CONT_MOBILE  FLAG_WORK_PHONE  FLAG_EMP_PHONE     FLAG_MOBIL  \\\n",
       "count     307511.000000    307511.000000   307511.000000  307511.000000   \n",
       "mean           0.998133         0.199368        0.819889       0.999997   \n",
       "std            0.043164         0.399526        0.384280       0.001803   \n",
       "min            0.000000         0.000000        0.000000       0.000000   \n",
       "25%            1.000000         0.000000        1.000000       1.000000   \n",
       "50%            1.000000         0.000000        1.000000       1.000000   \n",
       "75%            1.000000         0.000000        1.000000       1.000000   \n",
       "max            1.000000         1.000000        1.000000       1.000000   \n",
       "\n",
       "       DAYS_ID_PUBLISH  DAYS_REGISTRATION  DAYS_EMPLOYED     DAYS_BIRTH  \\\n",
       "count    307511.000000      307511.000000  307511.000000  307511.000000   \n",
       "mean      -2994.202373       -4986.120328   63815.045904  -16036.995067   \n",
       "std        1509.450419        3522.886321  141275.766519    4363.988632   \n",
       "min       -7197.000000      -24672.000000  -17912.000000  -25229.000000   \n",
       "25%       -4299.000000       -7479.500000   -2760.000000  -19682.000000   \n",
       "50%       -3254.000000       -4504.000000   -1213.000000  -15750.000000   \n",
       "75%       -1720.000000       -2010.000000    -289.000000  -12413.000000   \n",
       "max           0.000000           0.000000  365243.000000   -7489.000000   \n",
       "\n",
       "       REGION_POPULATION_RELATIVE     SK_ID_CURR  \n",
       "count               307511.000000  307511.000000  \n",
       "mean                     0.020868  278180.518577  \n",
       "std                      0.013831  102790.175348  \n",
       "min                      0.000290  100002.000000  \n",
       "25%                      0.010006  189145.500000  \n",
       "50%                      0.018850  278202.000000  \n",
       "75%                      0.028663  367142.500000  \n",
       "max                      0.072508  456255.000000  \n",
       "\n",
       "[8 rows x 84 columns]"
      ]
     },
     "execution_count": 94,
     "metadata": {},
     "output_type": "execute_result"
    }
   ],
   "source": [
    "keptColumns = list(metData[(metData.Percent<56.4)].index)\n",
    "appData = app_data[keptColumns]\n",
    "appData.describe()"
   ]
  },
  {
   "cell_type": "markdown",
   "metadata": {},
   "source": [
    "For this we wanted to add 0's to columns with a low amount of missing values. I read this from one of the elitedatascience articles. You don't want columns with to much missing data, otherwise they could effect the outcome."
   ]
  },
  {
   "cell_type": "code",
   "execution_count": 95,
   "metadata": {},
   "outputs": [
    {
     "data": {
      "text/html": [
       "<div>\n",
       "<style scoped>\n",
       "    .dataframe tbody tr th:only-of-type {\n",
       "        vertical-align: middle;\n",
       "    }\n",
       "\n",
       "    .dataframe tbody tr th {\n",
       "        vertical-align: top;\n",
       "    }\n",
       "\n",
       "    .dataframe thead th {\n",
       "        text-align: right;\n",
       "    }\n",
       "</style>\n",
       "<table border=\"1\" class=\"dataframe\">\n",
       "  <thead>\n",
       "    <tr style=\"text-align: right;\">\n",
       "      <th></th>\n",
       "      <th>Total</th>\n",
       "      <th>Percent</th>\n",
       "      <th>Unique</th>\n",
       "      <th>Data_Type</th>\n",
       "    </tr>\n",
       "  </thead>\n",
       "  <tbody>\n",
       "    <tr>\n",
       "      <td>AMT_REQ_CREDIT_BUREAU_HOUR</td>\n",
       "      <td>41519</td>\n",
       "      <td>13.501631</td>\n",
       "      <td>5</td>\n",
       "      <td>float64</td>\n",
       "    </tr>\n",
       "    <tr>\n",
       "      <td>AMT_REQ_CREDIT_BUREAU_DAY</td>\n",
       "      <td>41519</td>\n",
       "      <td>13.501631</td>\n",
       "      <td>9</td>\n",
       "      <td>float64</td>\n",
       "    </tr>\n",
       "    <tr>\n",
       "      <td>AMT_REQ_CREDIT_BUREAU_WEEK</td>\n",
       "      <td>41519</td>\n",
       "      <td>13.501631</td>\n",
       "      <td>9</td>\n",
       "      <td>float64</td>\n",
       "    </tr>\n",
       "    <tr>\n",
       "      <td>AMT_REQ_CREDIT_BUREAU_MON</td>\n",
       "      <td>41519</td>\n",
       "      <td>13.501631</td>\n",
       "      <td>24</td>\n",
       "      <td>float64</td>\n",
       "    </tr>\n",
       "    <tr>\n",
       "      <td>AMT_REQ_CREDIT_BUREAU_QRT</td>\n",
       "      <td>41519</td>\n",
       "      <td>13.501631</td>\n",
       "      <td>11</td>\n",
       "      <td>float64</td>\n",
       "    </tr>\n",
       "    <tr>\n",
       "      <td>AMT_REQ_CREDIT_BUREAU_YEAR</td>\n",
       "      <td>41519</td>\n",
       "      <td>13.501631</td>\n",
       "      <td>25</td>\n",
       "      <td>float64</td>\n",
       "    </tr>\n",
       "    <tr>\n",
       "      <td>NAME_TYPE_SUITE</td>\n",
       "      <td>1292</td>\n",
       "      <td>0.420148</td>\n",
       "      <td>7</td>\n",
       "      <td>object</td>\n",
       "    </tr>\n",
       "    <tr>\n",
       "      <td>OBS_30_CNT_SOCIAL_CIRCLE</td>\n",
       "      <td>1021</td>\n",
       "      <td>0.332021</td>\n",
       "      <td>33</td>\n",
       "      <td>float64</td>\n",
       "    </tr>\n",
       "    <tr>\n",
       "      <td>DEF_30_CNT_SOCIAL_CIRCLE</td>\n",
       "      <td>1021</td>\n",
       "      <td>0.332021</td>\n",
       "      <td>10</td>\n",
       "      <td>float64</td>\n",
       "    </tr>\n",
       "    <tr>\n",
       "      <td>OBS_60_CNT_SOCIAL_CIRCLE</td>\n",
       "      <td>1021</td>\n",
       "      <td>0.332021</td>\n",
       "      <td>33</td>\n",
       "      <td>float64</td>\n",
       "    </tr>\n",
       "    <tr>\n",
       "      <td>DEF_60_CNT_SOCIAL_CIRCLE</td>\n",
       "      <td>1021</td>\n",
       "      <td>0.332021</td>\n",
       "      <td>9</td>\n",
       "      <td>float64</td>\n",
       "    </tr>\n",
       "    <tr>\n",
       "      <td>EXT_SOURCE_2</td>\n",
       "      <td>660</td>\n",
       "      <td>0.214626</td>\n",
       "      <td>119831</td>\n",
       "      <td>float64</td>\n",
       "    </tr>\n",
       "    <tr>\n",
       "      <td>AMT_GOODS_PRICE</td>\n",
       "      <td>278</td>\n",
       "      <td>0.090403</td>\n",
       "      <td>1002</td>\n",
       "      <td>float64</td>\n",
       "    </tr>\n",
       "    <tr>\n",
       "      <td>AMT_ANNUITY</td>\n",
       "      <td>12</td>\n",
       "      <td>0.003902</td>\n",
       "      <td>13672</td>\n",
       "      <td>float64</td>\n",
       "    </tr>\n",
       "    <tr>\n",
       "      <td>CNT_FAM_MEMBERS</td>\n",
       "      <td>2</td>\n",
       "      <td>0.000650</td>\n",
       "      <td>17</td>\n",
       "      <td>float64</td>\n",
       "    </tr>\n",
       "    <tr>\n",
       "      <td>DAYS_LAST_PHONE_CHANGE</td>\n",
       "      <td>1</td>\n",
       "      <td>0.000325</td>\n",
       "      <td>3773</td>\n",
       "      <td>float64</td>\n",
       "    </tr>\n",
       "  </tbody>\n",
       "</table>\n",
       "</div>"
      ],
      "text/plain": [
       "                            Total    Percent  Unique Data_Type\n",
       "AMT_REQ_CREDIT_BUREAU_HOUR  41519  13.501631       5   float64\n",
       "AMT_REQ_CREDIT_BUREAU_DAY   41519  13.501631       9   float64\n",
       "AMT_REQ_CREDIT_BUREAU_WEEK  41519  13.501631       9   float64\n",
       "AMT_REQ_CREDIT_BUREAU_MON   41519  13.501631      24   float64\n",
       "AMT_REQ_CREDIT_BUREAU_QRT   41519  13.501631      11   float64\n",
       "AMT_REQ_CREDIT_BUREAU_YEAR  41519  13.501631      25   float64\n",
       "NAME_TYPE_SUITE              1292   0.420148       7    object\n",
       "OBS_30_CNT_SOCIAL_CIRCLE     1021   0.332021      33   float64\n",
       "DEF_30_CNT_SOCIAL_CIRCLE     1021   0.332021      10   float64\n",
       "OBS_60_CNT_SOCIAL_CIRCLE     1021   0.332021      33   float64\n",
       "DEF_60_CNT_SOCIAL_CIRCLE     1021   0.332021       9   float64\n",
       "EXT_SOURCE_2                  660   0.214626  119831   float64\n",
       "AMT_GOODS_PRICE               278   0.090403    1002   float64\n",
       "AMT_ANNUITY                    12   0.003902   13672   float64\n",
       "CNT_FAM_MEMBERS                 2   0.000650      17   float64\n",
       "DAYS_LAST_PHONE_CHANGE          1   0.000325    3773   float64"
      ]
     },
     "execution_count": 95,
     "metadata": {},
     "output_type": "execute_result"
    }
   ],
   "source": [
    "lowMiss = pd.DataFrame(metData[(metData.Percent > 0) & (metData.Percent<15)])\n",
    "lowMiss"
   ]
  },
  {
   "cell_type": "code",
   "execution_count": 96,
   "metadata": {},
   "outputs": [],
   "source": [
    "obs = appData.select_dtypes('object').columns #This is so we know the data names for changing to numeric values."
   ]
  },
  {
   "cell_type": "code",
   "execution_count": 97,
   "metadata": {},
   "outputs": [],
   "source": [
    "floats = appData.select_dtypes('float').columns\n",
    "ints = appData.select_dtypes('int64').columns"
   ]
  },
  {
   "cell_type": "code",
   "execution_count": 98,
   "metadata": {},
   "outputs": [
    {
     "data": {
      "text/plain": [
       "CNT_CHILDREN                       15\n",
       "FLAG_DOCUMENT_8                     2\n",
       "FLAG_DOCUMENT_2                     2\n",
       "FLAG_DOCUMENT_3                     2\n",
       "FLAG_DOCUMENT_4                     2\n",
       "FLAG_DOCUMENT_5                     2\n",
       "FLAG_DOCUMENT_6                     2\n",
       "FLAG_DOCUMENT_7                     2\n",
       "FLAG_DOCUMENT_9                     2\n",
       "FLAG_DOCUMENT_21                    2\n",
       "FLAG_DOCUMENT_10                    2\n",
       "FLAG_DOCUMENT_11                    2\n",
       "FLAG_DOCUMENT_13                    2\n",
       "FLAG_DOCUMENT_14                    2\n",
       "FLAG_DOCUMENT_15                    2\n",
       "FLAG_DOCUMENT_16                    2\n",
       "FLAG_DOCUMENT_17                    2\n",
       "FLAG_DOCUMENT_18                    2\n",
       "FLAG_DOCUMENT_19                    2\n",
       "FLAG_DOCUMENT_20                    2\n",
       "FLAG_DOCUMENT_12                    2\n",
       "FLAG_PHONE                          2\n",
       "LIVE_CITY_NOT_WORK_CITY             2\n",
       "REG_CITY_NOT_WORK_CITY              2\n",
       "TARGET                              2\n",
       "REG_CITY_NOT_LIVE_CITY              2\n",
       "LIVE_REGION_NOT_WORK_REGION         2\n",
       "REG_REGION_NOT_WORK_REGION          2\n",
       "REG_REGION_NOT_LIVE_REGION          2\n",
       "HOUR_APPR_PROCESS_START            24\n",
       "REGION_RATING_CLIENT_W_CITY         3\n",
       "REGION_RATING_CLIENT                3\n",
       "FLAG_EMAIL                          2\n",
       "FLAG_CONT_MOBILE                    2\n",
       "FLAG_WORK_PHONE                     2\n",
       "FLAG_EMP_PHONE                      2\n",
       "FLAG_MOBIL                          2\n",
       "DAYS_ID_PUBLISH                  6168\n",
       "DAYS_EMPLOYED                   12574\n",
       "DAYS_BIRTH                      17460\n",
       "SK_ID_CURR                     307511\n",
       "dtype: int64"
      ]
     },
     "execution_count": 98,
     "metadata": {},
     "output_type": "execute_result"
    }
   ],
   "source": [
    "appData.select_dtypes('int64').apply(pd.Series.nunique, axis = 0) #Looking for just 2 unique values"
   ]
  },
  {
   "cell_type": "code",
   "execution_count": 99,
   "metadata": {},
   "outputs": [
    {
     "name": "stderr",
     "output_type": "stream",
     "text": [
      "F:\\Downloads\\Anaconda\\lib\\site-packages\\pandas\\core\\generic.py:6786: SettingWithCopyWarning: \n",
      "A value is trying to be set on a copy of a slice from a DataFrame\n",
      "\n",
      "See the caveats in the documentation: http://pandas.pydata.org/pandas-docs/stable/user_guide/indexing.html#returning-a-view-versus-a-copy\n",
      "  self._update_inplace(new_data)\n"
     ]
    },
    {
     "data": {
      "text/plain": [
       "object     47\n",
       "float64    43\n",
       "int64       9\n",
       "dtype: int64"
      ]
     },
     "execution_count": 99,
     "metadata": {},
     "output_type": "execute_result"
    }
   ],
   "source": [
    "#columns to convert\n",
    "cols_to_convert=list(metData[(metData.Unique==2)&(metData.Data_Type==\"int64\")].index)\n",
    "#function to conver columns\n",
    "def convert_data(application_data, cols_to_convert):\n",
    "    for y in cols_to_convert:\n",
    "        application_data.loc[:,y].replace((0, 1), ('N', 'Y'), inplace=True)\n",
    "    return application_data\n",
    "\n",
    "#calling the function for application_data\n",
    "convert_data(appData, cols_to_convert)\n",
    "appData.TARGET.replace(('N', 'Y'), (0, 1), inplace=True)\n",
    "appData.dtypes.value_counts()"
   ]
  },
  {
   "cell_type": "code",
   "execution_count": 183,
   "metadata": {},
   "outputs": [],
   "source": [
    "def getDefaulterAndNondefaulters(data):\n",
    "    defaulter = data[data.TARGET==1] #These are who did default\n",
    "    nonDefaulter = data[data.TARGET==0] #These are who didn't default\n",
    "    return defaulter, nonDefaulter"
   ]
  },
  {
   "cell_type": "code",
   "execution_count": 184,
   "metadata": {},
   "outputs": [
    {
     "name": "stdout",
     "output_type": "stream",
     "text": [
      "(24657, 100) (279760, 100)\n"
     ]
    }
   ],
   "source": [
    "defaulter, nonDefaulter = getDefaulterAndNondefaulters(appData)\n",
    "print(defaulter.shape, nonDefaulter.shape)"
   ]
  },
  {
   "cell_type": "code",
   "execution_count": 101,
   "metadata": {},
   "outputs": [],
   "source": [
    "#Got this from machine learning kernels on kaggle\n",
    "\n",
    "def plot_charts(var, label_rotation,horizontal_layout):\n",
    "    if(horizontal_layout):\n",
    "        fig, (ax1, ax2) = plt.subplots(ncols=2, figsize=(10,5))\n",
    "    else:\n",
    "        fig, (ax1, ax2) = plt.subplots(nrows=2, figsize=(15,20))\n",
    "    \n",
    "    s1=sns.countplot(ax=ax1,x=defaulter[var], data=defaulter, order= defaulter[var].value_counts().index,)\n",
    "    ax1.set_title('Distribution of '+ '%s' %var +' for Defaulters', fontsize=10)\n",
    "    ax1.set_xlabel('%s' %var)\n",
    "    ax1.set_ylabel(\"Count of Loans\")\n",
    "    if(label_rotation):\n",
    "        s1.set_xticklabels(s1.get_xticklabels(),rotation=90)\n",
    "    s2=sns.countplot(ax=ax2,x=nonDefaulter[var], data=nonDefaulter, order= nonDefaulter[var].value_counts().index,)\n",
    "    if(label_rotation):\n",
    "        s2.set_xticklabels(s2.get_xticklabels(),rotation=90)\n",
    "    ax2.set_xlabel('%s' %var)\n",
    "    ax2.set_ylabel(\"Count of Loans\")\n",
    "    ax2.set_title('Distribution of '+ '%s' %var +' for Non-Defaulters', fontsize=10)\n",
    "    plt.show()"
   ]
  },
  {
   "cell_type": "markdown",
   "metadata": {},
   "source": [
    "Obviously, more individuals and organizations are looking for cash loans."
   ]
  },
  {
   "cell_type": "code",
   "execution_count": 102,
   "metadata": {},
   "outputs": [
    {
     "data": {
      "image/png": "[encoded data removed]",
      "text/plain": [
       "<Figure size 720x360 with 2 Axes>"
      ]
     },
     "metadata": {
      "needs_background": "light"
     },
     "output_type": "display_data"
    }
   ],
   "source": [
    "plot_charts('NAME_CONTRACT_TYPE', False, True)"
   ]
  },
  {
   "cell_type": "markdown",
   "metadata": {},
   "source": [
    "More women were looking for loans than men."
   ]
  },
  {
   "cell_type": "code",
   "execution_count": 103,
   "metadata": {},
   "outputs": [
    {
     "data": {
      "image/png": "[encoded data removed]",
      "text/plain": [
       "<Figure size 720x360 with 2 Axes>"
      ]
     },
     "metadata": {
      "needs_background": "light"
     },
     "output_type": "display_data"
    }
   ],
   "source": [
    "plot_charts('CODE_GENDER', False, True)"
   ]
  },
  {
   "cell_type": "code",
   "execution_count": 104,
   "metadata": {},
   "outputs": [
    {
     "data": {
      "image/png": "[encoded data removed]",
      "text/plain": [
       "<Figure size 720x360 with 2 Axes>"
      ]
     },
     "metadata": {
      "needs_background": "light"
     },
     "output_type": "display_data"
    }
   ],
   "source": [
    "plot_charts('FLAG_OWN_REALTY', False, True)"
   ]
  },
  {
   "cell_type": "code",
   "execution_count": 105,
   "metadata": {},
   "outputs": [
    {
     "data": {
      "image/png": "[encoded data removed]",
      "text/plain": [
       "<Figure size 720x360 with 2 Axes>"
      ]
     },
     "metadata": {
      "needs_background": "light"
     },
     "output_type": "display_data"
    }
   ],
   "source": [
    "plot_charts('FLAG_OWN_CAR', False, True)"
   ]
  },
  {
   "cell_type": "code",
   "execution_count": 106,
   "metadata": {},
   "outputs": [
    {
     "data": {
      "image/png": "[encoded data removed]",
      "text/plain": [
       "<Figure size 1080x1440 with 2 Axes>"
      ]
     },
     "metadata": {
      "needs_background": "light"
     },
     "output_type": "display_data"
    }
   ],
   "source": [
    "plot_charts('NAME_HOUSING_TYPE', True, False)"
   ]
  },
  {
   "cell_type": "markdown",
   "metadata": {},
   "source": [
    "Ratio of people who live with parents and default is higher than the non-defaulters. This could be correlated with age, we'll have to look into age to see if that ratio remains similar, as it might just be an insight that younger people tend to default more."
   ]
  },
  {
   "cell_type": "code",
   "execution_count": 107,
   "metadata": {},
   "outputs": [
    {
     "data": {
      "image/png": "[encoded data removed]",
      "text/plain": [
       "<Figure size 1080x1440 with 2 Axes>"
      ]
     },
     "metadata": {
      "needs_background": "light"
     },
     "output_type": "display_data"
    }
   ],
   "source": [
    "plot_charts('NAME_HOUSING_TYPE', True, False)"
   ]
  },
  {
   "cell_type": "code",
   "execution_count": 108,
   "metadata": {},
   "outputs": [
    {
     "name": "stderr",
     "output_type": "stream",
     "text": [
      "F:\\Downloads\\Anaconda\\lib\\site-packages\\ipykernel_launcher.py:1: SettingWithCopyWarning: \n",
      "A value is trying to be set on a copy of a slice from a DataFrame.\n",
      "Try using .loc[row_indexer,col_indexer] = value instead\n",
      "\n",
      "See the caveats in the documentation: http://pandas.pydata.org/pandas-docs/stable/user_guide/indexing.html#returning-a-view-versus-a-copy\n",
      "  \"\"\"Entry point for launching an IPython kernel.\n"
     ]
    },
    {
     "data": {
      "text/plain": [
       "Text(0.5, 1.0, 'Age in years')"
      ]
     },
     "execution_count": 108,
     "metadata": {},
     "output_type": "execute_result"
    },
    {
     "data": {
      "image/png": "[encoded data removed]",
      "text/plain": [
       "<Figure size 432x288 with 1 Axes>"
      ]
     },
     "metadata": {
      "needs_background": "light"
     },
     "output_type": "display_data"
    }
   ],
   "source": [
    "appData['AGE'] = appData['DAYS_BIRTH'] / -365\n",
    "plt.hist(appData['AGE'])\n",
    "plt.title('Age in years')"
   ]
  },
  {
   "cell_type": "markdown",
   "metadata": {},
   "source": [
    "Now I want to see who is looking for loans, as well as what types of businesses are looking for loans."
   ]
  },
  {
   "cell_type": "code",
   "execution_count": 109,
   "metadata": {},
   "outputs": [
    {
     "data": {
      "image/png": "[encoded data removed]",
      "text/plain": [
       "<Figure size 1080x1440 with 2 Axes>"
      ]
     },
     "metadata": {
      "needs_background": "light"
     },
     "output_type": "display_data"
    }
   ],
   "source": [
    "plot_charts('OCCUPATION_TYPE', True, False)"
   ]
  },
  {
   "cell_type": "code",
   "execution_count": 110,
   "metadata": {},
   "outputs": [
    {
     "data": {
      "image/png": "[encoded data removed]",
      "text/plain": [
       "<Figure size 1080x1440 with 2 Axes>"
      ]
     },
     "metadata": {
      "needs_background": "light"
     },
     "output_type": "display_data"
    }
   ],
   "source": [
    "plot_charts('ORGANIZATION_TYPE', True, False)"
   ]
  },
  {
   "cell_type": "code",
   "execution_count": 111,
   "metadata": {},
   "outputs": [],
   "source": [
    "def plot_boxhist(var):\n",
    "    plt.figure(figsize=(15,5))\n",
    "    plt.subplot(1, 2, 1)\n",
    "    s=sns.boxplot(y=defaulters[var]);\n",
    "    plt.title('Box Plot of '+ '%s' %var +' for Defaulters', fontsize=10)\n",
    "    plt.xlabel('%s' %var)\n",
    "    plt.ylabel(\"Count of Loans\")\n",
    "    plt.subplot(1, 2, 2)\n",
    "    s=plt.hist(x=defaulters[var]);\n",
    "    plt.xlabel('%s' %var)\n",
    "    plt.ylabel(\"Count of Loans\")\n",
    "    plt.title('Histogram of '+ '%s' %var +' for Defaulters', fontsize=10)\n",
    "    plt.show()"
   ]
  },
  {
   "cell_type": "code",
   "execution_count": 112,
   "metadata": {},
   "outputs": [
    {
     "data": {
      "image/png": "[encoded data removed]",
      "text/plain": [
       "<Figure size 1080x360 with 2 Axes>"
      ]
     },
     "metadata": {
      "needs_background": "light"
     },
     "output_type": "display_data"
    }
   ],
   "source": [
    "#Removing all entries above 99 percentile\n",
    "appData=appData[appData.AMT_INCOME_TOTAL<np.nanpercentile(appData['AMT_INCOME_TOTAL'], 99)]\n",
    "#update dataframes\n",
    "defaulters, nondefaulters = getDefaulterAndNondefaulters(appData)\n",
    "\n",
    "plot_boxhist('AMT_INCOME_TOTAL')"
   ]
  },
  {
   "cell_type": "code",
   "execution_count": 113,
   "metadata": {},
   "outputs": [],
   "source": [
    "defaulter.loc[:,'INCOME_BRACKET']=pd.qcut(appData.loc[:,'AMT_INCOME_TOTAL'],q=[0,0.10,0.35,0.50,0.90,1], labels=['Very_low','Low','Medium','High','Very_high'])\n",
    "nonDefaulter.loc[:,'INCOME_BRACKET']=pd.qcut(appData.loc[:,'AMT_INCOME_TOTAL'],q=[0,0.10,0.35,0.50,0.90,1], labels=['Very_low','Low','Medium','High','Very_high'])"
   ]
  },
  {
   "cell_type": "code",
   "execution_count": 162,
   "metadata": {},
   "outputs": [
    {
     "data": {
      "image/png": "[encoded data removed]",
      "text/plain": [
       "<Figure size 720x360 with 2 Axes>"
      ]
     },
     "metadata": {
      "needs_background": "light"
     },
     "output_type": "display_data"
    }
   ],
   "source": [
    "plot_charts('INCOME_BRACKET', True, True)"
   ]
  },
  {
   "cell_type": "markdown",
   "metadata": {},
   "source": [
    "As we can see, everything follows about the same patter, but with more low income people defaulting, and more very high income people not defaulting. "
   ]
  },
  {
   "cell_type": "code",
   "execution_count": 185,
   "metadata": {},
   "outputs": [],
   "source": [
    "def dataSetup(appData):\n",
    "    le = preprocessing.LabelEncoder()\n",
    "    for CName in appData.drop('TARGET', axis = 1).columns:\n",
    "        if type(appData[CName][1]) == str:\n",
    "            appData[CName] = appData[CName].fillna(\"Unknown\")\n",
    "        else:\n",
    "            appData[CName] = appData[CName].fillna(appData[CName].mean(), inplace=True)\n",
    "        if CName == 'TARGET': pass\n",
    "        else:\n",
    "            appData[CName] = le.fit_transform(appData[CName])\n",
    "    return appData, appData['TARGET'], appData.drop('TARGET', axis = 1)"
   ]
  },
  {
   "cell_type": "code",
   "execution_count": 186,
   "metadata": {},
   "outputs": [],
   "source": [
    "finalAppData, labels, feats= dataSetup(appData)\n",
    "defaulters, nondefaulters = getDefaulterAndNondefaulters(finalAppData)"
   ]
  },
  {
   "cell_type": "code",
   "execution_count": 187,
   "metadata": {},
   "outputs": [],
   "source": [
    "feats = np.array(feats)\n",
    "labels = np.array(labels)"
   ]
  },
  {
   "cell_type": "markdown",
   "metadata": {},
   "source": [
    "## Random Forest Model"
   ]
  },
  {
   "cell_type": "code",
   "execution_count": 188,
   "metadata": {},
   "outputs": [],
   "source": [
    "def trainAndPredictRandomForest(xTrain, yTrain, xTest, yTest):\n",
    "    #Feature scaling\n",
    "    std_scaler = StandardScaler()    \n",
    "    xTrain = std_scaler.fit_transform(xTrain)\n",
    "    xTest = std_scaler.transform(xTest)\n",
    "    \n",
    "    # Model training\n",
    "    rf = RandomForestClassifier(n_estimators = 1000, max_depth = 4)\n",
    "    rf.fit(xTrain, yTrain)\n",
    "    \n",
    "    # Model predicting \n",
    "    predictions = rf.predict(xTest)\n",
    "    print(np.average(predictions == yTest))\n",
    "    return predictions, rf"
   ]
  },
  {
   "cell_type": "markdown",
   "metadata": {},
   "source": [
    "## Logistic Regression Model"
   ]
  },
  {
   "cell_type": "code",
   "execution_count": 189,
   "metadata": {},
   "outputs": [],
   "source": [
    "# Returns the prediction of the test data and the model itself\n",
    "def trainAndPredictLogisticReg(xTrain, yTrain, xTest, yTest):\n",
    "    #Feature scaling\n",
    "    std_scaler = StandardScaler()    \n",
    "    xTrain = std_scaler.fit_transform(xTrain)\n",
    "    xTest = std_scaler.transform(xTest)\n",
    "    \n",
    "    # Model training\n",
    "    reg = LogisticRegression(random_state = 27).fit(xTrain, yTsrain)\n",
    "    \n",
    "    # Model predicting\n",
    "    prediction = reg.predict(xTest)\n",
    "    \n",
    "    return prediction, reg"
   ]
  },
  {
   "cell_type": "markdown",
   "metadata": {},
   "source": [
    "## Cross Validation"
   ]
  },
  {
   "cell_type": "code",
   "execution_count": 190,
   "metadata": {},
   "outputs": [],
   "source": [
    "from sklearn.model_selection import StratifiedShuffleSplit as sss\n",
    "# Creating 3 splits\n",
    "stratifiedShuffSplitter = sss(n_splits=3, test_size = .33, random_state = 27)"
   ]
  },
  {
   "cell_type": "code",
   "execution_count": 191,
   "metadata": {},
   "outputs": [],
   "source": [
    "# - Evaluating the Models by calculating Precision, Recall, F1 score and confusion matrix\n",
    "def evaluateModel(yActual, yPredicted):\n",
    "    print(np.average(yPredicted == yActual), \"Average Correct\")\n",
    "    print(PS(yActual, yPredicted, average='micro'), \"Number for Precision score\")\n",
    "    print(RS(yActual, yPredicted, average='micro'), \"Number for Recall Score\")\n",
    "    print(FS(yActual, yPredicted, average='micro'), \"Number for F1 score\")\n",
    "    \n",
    "    #Plotting the confusion matrix\n",
    "    confusionMat = confusion_matrix(yActual, yPredicted)\n",
    "    np.fill_diagonal(confusionMat, 0)\n",
    "    plt.matshow(confusionMat)"
   ]
  },
  {
   "cell_type": "code",
   "execution_count": 192,
   "metadata": {},
   "outputs": [],
   "source": [
    "# - Creating the Model\n",
    "# - Running Predictions \n",
    "# - Evaluating the Models by calculating Precision, Recall, F1 score and confusion matrix\n",
    "# - Cross validating the model with the number of folds specified in the shuffler\n",
    "def createAndCrossRandomForest(xData, labels, stratifiedShuffSplitter):\n",
    "    counter = 0\n",
    "    # Running the cross validation on the number of sets specified on the \n",
    "    # splitter\n",
    "    for train_index, test_index in stratifiedShuffSplitter.split(xData, labels):\n",
    "        print(\"\\n\\n Running the\", ++counter, \"set\")\n",
    "        print(train_index.shape, test_index.shape)        \n",
    "        xTrain, yTrain = xData[train_index], labels[train_index]\n",
    "        xTest, yTest = xData[test_index], labels[test_index]\n",
    "\n",
    "        #Feature scaling\n",
    "        std_scaler = StandardScaler()    \n",
    "        xTrain = std_scaler.fit_transform(xTrain)\n",
    "        xTest = std_scaler.transform(xTest)\n",
    "        \n",
    "        # Training and predicting Random forest\n",
    "        print(\"\\nRunning Random Forest\")\n",
    "        rf = RandomForestClassifier(n_estimators = 1000, max_depth = 10)\n",
    "        rf.fit(xTrain, yTrain)\n",
    "        predictions = rf.predict(xTest)\n",
    "        evaluateModel(yTest, predictions) "
   ]
  },
  {
   "cell_type": "code",
   "execution_count": 193,
   "metadata": {},
   "outputs": [],
   "source": [
    "# - Creating the Models\n",
    "# - Running Predictions \n",
    "# - Evaluating the Models by calculating Precision, Recall, F1 score and confusion matrix\n",
    "# - Cross validating the model with the number of folds specified in the shuffler\n",
    "def createAndCrossLogisticReg(xData, labels, stratifiedShuffSplitter):\n",
    "    counter = 0\n",
    "    # Running the cross validation on the number of sets specified on the \n",
    "    # splitter\n",
    "    for train_index, test_index in stratifiedShuffSplitter.split(xData, labels):\n",
    "        print(\"\\n\\n Running the\", ++counter, \"set\")\n",
    "        print(train_index.shape, test_index.shape)        \n",
    "        xTrain, yTrain = xData[train_index], labels[train_index]\n",
    "        xTest, yTest = xData[test_index], labels[test_index]\n",
    "\n",
    "        #Feature scaling\n",
    "        std_scaler = StandardScaler()    \n",
    "        xTrain = std_scaler.fit_transform(xTrain)\n",
    "        xTest = std_scaler.transform(xTest)\n",
    "        \n",
    "        # Training and predicting Logistic Regression\n",
    "        print(\"\\nRunning Logistic Regression\")\n",
    "        reg = LogisticRegression(random_state = 0).fit(xTrain, yTrain)\n",
    "        predictions = reg.predict(xTest)\n",
    "        evaluateModel(yTest, predictions)"
   ]
  },
  {
   "cell_type": "code",
   "execution_count": null,
   "metadata": {},
   "outputs": [],
   "source": []
  },
  {
   "cell_type": "markdown",
   "metadata": {},
   "source": [
    "## With all Features (After filtering)\n",
    "Creating and evaluating the models with all the 99 filtered features "
   ]
  },
  {
   "cell_type": "code",
   "execution_count": 194,
   "metadata": {},
   "outputs": [],
   "source": [
    "# createAndCrossRandomForest(feats, labels, stratifiedShuffSplitter)\n",
    "# createAndCrossLogisticReg(feats, labels, stratifiedShuffSplitter)"
   ]
  },
  {
   "cell_type": "markdown",
   "metadata": {},
   "source": [
    "## With reduced dimensionality using PCA\n",
    "\n",
    "##??? Documentation"
   ]
  },
  {
   "cell_type": "code",
   "execution_count": 195,
   "metadata": {},
   "outputs": [],
   "source": [
    "def projData(myX, myU, K): #From our assignment 6\n",
    "    return myX @ myU[:, :K]\n",
    "def recData(myZ, myU, K): #From our assignment 6#####Where is this used?\n",
    "    return myZ @ myU[:, :K].T"
   ]
  },
  {
   "cell_type": "code",
   "execution_count": 196,
   "metadata": {},
   "outputs": [],
   "source": [
    "###################?????????DOCUMENTATION\n",
    "scaler = StandardScaler()\n",
    "xScaled = scaler.fit_transform(feats)\n",
    "covariance = (1 / xScaled.shape[0]) * xScaled.T @ xScaled\n",
    "U, S, V = sp.linalg.svd(covariance)\n",
    "xReduced = projData(xScaled, U, 30) "
   ]
  },
  {
   "cell_type": "code",
   "execution_count": 197,
   "metadata": {},
   "outputs": [],
   "source": [
    "# Creating and evaluating models with reduced dimensionality\n",
    "# createAndCrossRandomForest(xReduced, labels, stratifiedShuffSplitter)\n",
    "# createAndCrossLogisticReg(xReduced, labels, stratifiedShuffSplitter)"
   ]
  },
  {
   "cell_type": "markdown",
   "metadata": {},
   "source": [
    "## With only important features found using Random Forest"
   ]
  },
  {
   "cell_type": "code",
   "execution_count": 198,
   "metadata": {},
   "outputs": [],
   "source": [
    "# Combine all the train the samples from the sss, and run RF on it.\n",
    "# Find the important features\n",
    "# Remove the features from the original dataset\n",
    "# Run the models with only relavant features"
   ]
  },
  {
   "cell_type": "markdown",
   "metadata": {},
   "source": [
    "# Dealing with Imbalanced Dataset\n",
    "\n",
    "Most of the machine learning algorithms work the best when the samples in each class are about equal. \n",
    "\n",
    "In case of our data set, we have 307,511 total entries out of which 282,686 values are non-defaulters and only 24,825 entries are of defaulters. So the minority class is only about 8% of the entire data set.\n",
    "\n",
    "There are different techniques which resolve the issue of over sampling. All these techniques are implemented below. (Source: https://towardsdatascience.com/methods-for-dealing-with-imbalanced-data-5b761be45a18)"
   ]
  },
  {
   "cell_type": "code",
   "execution_count": 199,
   "metadata": {},
   "outputs": [],
   "source": [
    "# Splitting the dataset into Labels and Features\n",
    "def getFeaturesAndLabels(data):\n",
    "    labels = data.TARGET\n",
    "    features = data.drop('TARGET', axis = 1)\n",
    "    return features, labels"
   ]
  },
  {
   "cell_type": "markdown",
   "metadata": {},
   "source": [
    "### Undersampling Majority Class\n",
    "Undersampling is a method of removing data from the majority class. This method is a good choice when we have a huge dataset.\n",
    "\n",
    "Drawback- We might remove valuable data which might lead to an underfit and poor generalization to the test data set."
   ]
  },
  {
   "cell_type": "code",
   "execution_count": 200,
   "metadata": {},
   "outputs": [],
   "source": [
    "#Downsampling the majority class\n",
    "def downsampleMajority(non_defaulter, defaulter):    \n",
    "    non_defaulters_downsampled = resample(non_defaulter,\n",
    "                                         replace = False, # resample without replacement\n",
    "                                         n_samples = len(defaulter), # Minority Class\n",
    "                                         random_state = 27) # reproducible results\n",
    "\n",
    "    # Combining minority and downsampled majority class\n",
    "    downsampledData = pd.concat([non_defaulters_downsampled, defaulter])\n",
    "    return downsampledData"
   ]
  },
  {
   "cell_type": "code",
   "execution_count": 201,
   "metadata": {},
   "outputs": [
    {
     "data": {
      "text/plain": [
       "1    24657\n",
       "0    24657\n",
       "Name: TARGET, dtype: int64"
      ]
     },
     "execution_count": 201,
     "metadata": {},
     "output_type": "execute_result"
    }
   ],
   "source": [
    "# Verifying counts for Defaulter and Non-Defaulter classes\n",
    "downSampledData = downsampleMajority(nondefaulters, defaulters)\n",
    "downSampledData.TARGET.value_counts()"
   ]
  },
  {
   "cell_type": "code",
   "execution_count": 202,
   "metadata": {},
   "outputs": [],
   "source": [
    "# Getting the test and train split from the downsampled data\n",
    "def getTestTrainDownsampled(downsampledData):\n",
    "    # Extracting the features and labels\n",
    "    downSampledFeatures, downSampledLabels = getFeaturesAndLabels(downsampledData)\n",
    "\n",
    "    # Split the data into test and train\n",
    "    trainFeatUnderSamp, testFeatUnderSamp, trainLabelsUnderSamp, testLabelsUnderSamp = train_test_split(downSampledFeatures, downSampledLabels, test_size=0.33, random_state=27)\n",
    "    return trainFeatUnderSamp, testFeatUnderSamp, trainLabelsUnderSamp, testLabelsUnderSamp"
   ]
  },
  {
   "cell_type": "code",
   "execution_count": 203,
   "metadata": {},
   "outputs": [
    {
     "name": "stdout",
     "output_type": "stream",
     "text": [
      "(33040, 99) (16274, 99) (33040,) (16274,)\n"
     ]
    }
   ],
   "source": [
    "# Getting the undersampled train data and test data\n",
    "xTrainUnderSamp, xTestUnderSamp, yTrainUnderSamp, yTestUnderSamp = getTestTrainDownsampled(downSampledData)\n",
    "print(xTrainUnderSamp.shape, xTestUnderSamp.shape, yTrainUnderSamp.shape, yTestUnderSamp.shape)\n",
    "\n",
    "# feats.shape"
   ]
  },
  {
   "cell_type": "code",
   "execution_count": 204,
   "metadata": {},
   "outputs": [
    {
     "name": "stdout",
     "output_type": "stream",
     "text": [
      "0.49225758879193804\n",
      "0.49225758879193804 Average Correct\n",
      "0.49225758879193804 Number for Precision score\n",
      "0.49225758879193804 Number for Recall Score\n",
      "0.49225758879193804 Number for F1 score\n"
     ]
    },
    {
     "data": {
      "image/png": "[encoded data removed]",
      "text/plain": [
       "<Figure size 288x288 with 1 Axes>"
      ]
     },
     "metadata": {
      "needs_background": "light"
     },
     "output_type": "display_data"
    }
   ],
   "source": [
    "# Training and Predicting Random Forest Model\n",
    "predictions, rf = trainAndPredictRandomForest(xTrainUnderSamp, yTrainUnderSamp, xTestUnderSamp, yTestUnderSamp)\n",
    "evaluateModel(yTestUnderSamp, predictions) "
   ]
  },
  {
   "cell_type": "code",
   "execution_count": 205,
   "metadata": {},
   "outputs": [
    {
     "name": "stdout",
     "output_type": "stream",
     "text": [
      "0.49225758879193804 Average Correct\n",
      "0.49225758879193804 Number for Precision score\n",
      "0.49225758879193804 Number for Recall Score\n",
      "0.49225758879193804 Number for F1 score\n"
     ]
    },
    {
     "name": "stderr",
     "output_type": "stream",
     "text": [
      "F:\\Downloads\\Anaconda\\lib\\site-packages\\sklearn\\linear_model\\logistic.py:432: FutureWarning: Default solver will be changed to 'lbfgs' in 0.22. Specify a solver to silence this warning.\n",
      "  FutureWarning)\n"
     ]
    },
    {
     "data": {
      "image/png": "[encoded data removed]",
      "text/plain": [
       "<Figure size 288x288 with 1 Axes>"
      ]
     },
     "metadata": {
      "needs_background": "light"
     },
     "output_type": "display_data"
    }
   ],
   "source": [
    "# Training and Predicting Logistic Regression Model\n",
    "predictions, lr = trainAndPredictLogisticReg(xTrainUnderSamp, yTrainUnderSamp, xTestUnderSamp, yTestUnderSamp)\n",
    "evaluateModel(yTestUnderSamp, predictions) "
   ]
  },
  {
   "cell_type": "markdown",
   "metadata": {},
   "source": [
    "### Oversampling Minority Class\n",
    "\n",
    "Oversampling is a method of adding duplicates from the minority class to make it equal to the size of the majority class.\n",
    "\n",
    "Oversampling is usually used when there is not a lot of data to work with. But let's try and see what happens in our dataset.\n",
    "\n",
    "(Source: https://towardsdatascience.com/methods-for-dealing-with-imbalanced-data-5b761be45a18)\n",
    "\n",
    "Important Note:\n",
    "We should always seperate the original dataset into test and train sets before performing oversampling. This is because the repetition in the data can allow the model to memorize specific data points which can lead to an overfit."
   ]
  },
  {
   "cell_type": "code",
   "execution_count": 206,
   "metadata": {},
   "outputs": [],
   "source": [
    "def getTestTrainOversampled():    \n",
    "    # Split the data into features and labels\n",
    "    feats, labels = getFeaturesAndLabels(finalAppData)\n",
    "    \n",
    "    #Setting up the test and train data\n",
    "    trainFeatOverSamp, testFeatOverSamp, trainLabelsOverSamp, testLabelsOverSamp = train_test_split(feats, labels, test_size=0.33, random_state=27)\n",
    "\n",
    "    # Concatenate the training features and the labels \n",
    "    trainData = pd.concat([trainFeatOverSamp, trainLabelsOverSamp], axis = 1)    \n",
    "    \n",
    "    # Seperate the majority and the minority classes from the Train Dataset\n",
    "    trainDefaulters    = trainData[trainData.TARGET == 1] \n",
    "    trainNonDefaulters = trainData[trainData.TARGET == 0]\n",
    "    \n",
    "    # Upsampling the minority class in the train data\n",
    "    defaulters_upsampled = resample(trainDefaulters, # the dataset to scales up\n",
    "                                   replace = True, #resample with replacement\n",
    "                                    n_samples = len(trainNonDefaulters), #Num of majority class entries\n",
    "                                    random_state = 27) \n",
    "    upsampledData = pd.concat([trainNonDefaulters, defaulters_upsampled]) \n",
    "\n",
    "    #Verifying the number of entries for each class\n",
    "    upsampledData.TARGET.value_counts()\n",
    "\n",
    "    #Splitting the upsampled train data to features and labels\n",
    "    trainFeats, trainLabels = getFeaturesAndLabels(upsampledData)\n",
    "    return trainFeats, testFeatOverSamp, trainLabels, testLabelsOverSamp"
   ]
  },
  {
   "cell_type": "code",
   "execution_count": 207,
   "metadata": {},
   "outputs": [],
   "source": [
    "# Getting the undersampled train data and test data\n",
    "xTrainOverSamp, xTestOverSamp, yTrainOverSamp, yTestOverSamp = getTestTrainOversampled()"
   ]
  },
  {
   "cell_type": "code",
   "execution_count": 208,
   "metadata": {},
   "outputs": [
    {
     "name": "stdout",
     "output_type": "stream",
     "text": [
      "0.08094925242389854\n",
      "0.08094925242389854 Average Correct\n",
      "0.08094925242389854 Number for Precision score\n",
      "0.08094925242389854 Number for Recall Score\n",
      "0.08094925242389854 Number for F1 score\n"
     ]
    },
    {
     "data": {
      "image/png": "[encoded data removed]",
      "text/plain": [
       "<Figure size 288x288 with 1 Axes>"
      ]
     },
     "metadata": {
      "needs_background": "light"
     },
     "output_type": "display_data"
    }
   ],
   "source": [
    "# Training and Predicting Random Forest Model\n",
    "predictions, rf = trainAndPredictRandomForest(xTrainOverSamp, yTrainOverSamp, xTestOverSamp, yTestOverSamp)\n",
    "evaluateModel(yTestOverSamp, predictions) "
   ]
  },
  {
   "cell_type": "code",
   "execution_count": 209,
   "metadata": {},
   "outputs": [
    {
     "name": "stderr",
     "output_type": "stream",
     "text": [
      "F:\\Downloads\\Anaconda\\lib\\site-packages\\sklearn\\linear_model\\logistic.py:432: FutureWarning: Default solver will be changed to 'lbfgs' in 0.22. Specify a solver to silence this warning.\n",
      "  FutureWarning)\n"
     ]
    },
    {
     "name": "stdout",
     "output_type": "stream",
     "text": [
      "0.9190507475761015 Average Correct\n",
      "0.9190507475761015 Number for Precision score\n",
      "0.9190507475761015 Number for Recall Score\n",
      "0.9190507475761015 Number for F1 score\n"
     ]
    },
    {
     "data": {
      "image/png": "[encoded data removed]",
      "text/plain": [
       "<Figure size 288x288 with 1 Axes>"
      ]
     },
     "metadata": {
      "needs_background": "light"
     },
     "output_type": "display_data"
    }
   ],
   "source": [
    "# Training and Predicting Logistic Regression Model\n",
    "predictions, lr = trainAndPredictLogisticReg(xTrainOverSamp, yTrainOverSamp, xTestOverSamp, yTestOverSamp)\n",
    "evaluateModel(yTestOverSamp, predictions) "
   ]
  },
  {
   "cell_type": "markdown",
   "metadata": {},
   "source": [
    "### Synthetic Data\n",
    "\n",
    "SMOTE oversamples the minority class by using nearest neighbours algorithm and generates new synthetic data which is used for model training.\n",
    "\n",
    "Important note: Similar to data oversampling, the data is splitted into test and training set at the beginning to avoid repetition in the data that can allow the model to memorize specific data points which can lead to an overfit."
   ]
  },
  {
   "cell_type": "code",
   "execution_count": 210,
   "metadata": {},
   "outputs": [],
   "source": [
    "def getTestTrainSynthetic():\n",
    "    # Split the data into features and labels\n",
    "    feats, labels = getFeaturesAndLabels(finalAppData)\n",
    "\n",
    "    # setting up testing and training sets\n",
    "    X_train, X_test, y_train, y_test = train_test_split(feats, labels, test_size=0.33, random_state=27)\n",
    "\n",
    "    sm = SMOTE(random_state=27, ratio=1.0)\n",
    "    #Running SMOTE on training set \n",
    "    # Upsampling the minority defaulter class by generating new samples\n",
    "    X_train, y_train = sm.fit_sample(X_train, y_train)\n",
    "    \n",
    "    return X_train, X_test, y_train, y_test"
   ]
  },
  {
   "cell_type": "code",
   "execution_count": 211,
   "metadata": {},
   "outputs": [
    {
     "ename": "NameError",
     "evalue": "name 'SMOTE' is not defined",
     "output_type": "error",
     "traceback": [
      "\u001b[1;31m---------------------------------------------------------------------------\u001b[0m",
      "\u001b[1;31mNameError\u001b[0m                                 Traceback (most recent call last)",
      "\u001b[1;32m<ipython-input-211-398569a6d0ae>\u001b[0m in \u001b[0;36m<module>\u001b[1;34m\u001b[0m\n\u001b[0;32m      1\u001b[0m \u001b[1;31m# Getting the undersampled train data and test data\u001b[0m\u001b[1;33m\u001b[0m\u001b[1;33m\u001b[0m\u001b[1;33m\u001b[0m\u001b[0m\n\u001b[1;32m----> 2\u001b[1;33m \u001b[0mxTrainSynthetic\u001b[0m\u001b[1;33m,\u001b[0m \u001b[0mxTestSynthetic\u001b[0m\u001b[1;33m,\u001b[0m \u001b[0myTrainSynthetic\u001b[0m\u001b[1;33m,\u001b[0m \u001b[0myTestSynthetic\u001b[0m \u001b[1;33m=\u001b[0m \u001b[0mgetTestTrainSynthetic\u001b[0m\u001b[1;33m(\u001b[0m\u001b[1;33m)\u001b[0m\u001b[1;33m\u001b[0m\u001b[1;33m\u001b[0m\u001b[0m\n\u001b[0m",
      "\u001b[1;32m<ipython-input-210-30d497399414>\u001b[0m in \u001b[0;36mgetTestTrainSynthetic\u001b[1;34m()\u001b[0m\n\u001b[0;32m      6\u001b[0m     \u001b[0mX_train\u001b[0m\u001b[1;33m,\u001b[0m \u001b[0mX_test\u001b[0m\u001b[1;33m,\u001b[0m \u001b[0my_train\u001b[0m\u001b[1;33m,\u001b[0m \u001b[0my_test\u001b[0m \u001b[1;33m=\u001b[0m \u001b[0mtrain_test_split\u001b[0m\u001b[1;33m(\u001b[0m\u001b[0mfeats\u001b[0m\u001b[1;33m,\u001b[0m \u001b[0mlabels\u001b[0m\u001b[1;33m,\u001b[0m \u001b[0mtest_size\u001b[0m\u001b[1;33m=\u001b[0m\u001b[1;36m0.33\u001b[0m\u001b[1;33m,\u001b[0m \u001b[0mrandom_state\u001b[0m\u001b[1;33m=\u001b[0m\u001b[1;36m27\u001b[0m\u001b[1;33m)\u001b[0m\u001b[1;33m\u001b[0m\u001b[1;33m\u001b[0m\u001b[0m\n\u001b[0;32m      7\u001b[0m \u001b[1;33m\u001b[0m\u001b[0m\n\u001b[1;32m----> 8\u001b[1;33m     \u001b[0msm\u001b[0m \u001b[1;33m=\u001b[0m \u001b[0mSMOTE\u001b[0m\u001b[1;33m(\u001b[0m\u001b[0mrandom_state\u001b[0m\u001b[1;33m=\u001b[0m\u001b[1;36m27\u001b[0m\u001b[1;33m,\u001b[0m \u001b[0mratio\u001b[0m\u001b[1;33m=\u001b[0m\u001b[1;36m1.0\u001b[0m\u001b[1;33m)\u001b[0m\u001b[1;33m\u001b[0m\u001b[1;33m\u001b[0m\u001b[0m\n\u001b[0m\u001b[0;32m      9\u001b[0m     \u001b[1;31m#Running SMOTE on training set\u001b[0m\u001b[1;33m\u001b[0m\u001b[1;33m\u001b[0m\u001b[1;33m\u001b[0m\u001b[0m\n\u001b[0;32m     10\u001b[0m     \u001b[1;31m# Upsampling the minority defaulter class by generating new samples\u001b[0m\u001b[1;33m\u001b[0m\u001b[1;33m\u001b[0m\u001b[1;33m\u001b[0m\u001b[0m\n",
      "\u001b[1;31mNameError\u001b[0m: name 'SMOTE' is not defined"
     ]
    }
   ],
   "source": [
    "# Getting the undersampled train data and test data\n",
    "xTrainSynthetic, xTestSynthetic, yTrainSynthetic, yTestSynthetic = getTestTrainSynthetic()"
   ]
  },
  {
   "cell_type": "code",
   "execution_count": null,
   "metadata": {},
   "outputs": [],
   "source": [
    "# Training and Predicting Random Forest Model\n",
    "predictions, rf = trainAndPredictRandomForest(xTrainSynthetic, yTrainSynthetic, xTestSynthetic, yTestSynthetic)\n",
    "evaluateModel(yTestSynthetic, predictions) "
   ]
  },
  {
   "cell_type": "code",
   "execution_count": null,
   "metadata": {},
   "outputs": [],
   "source": [
    "# Training and Predicting Logistic Regression Model\n",
    "predictions, lr = trainAndPredictLogisticReg(xTrainSynthetic, yTrainSynthetic, xTestSynthetic, yTestSynthetic)\n",
    "evaluateModel(yTestSynthetic, predictions) "
   ]
  }
 ],
 "metadata": {
  "kernelspec": {
   "display_name": "Python 3",
   "language": "python",
   "name": "python3"
  },
  "language_info": {
   "codemirror_mode": {
    "name": "ipython",
    "version": 3
   },
   "file_extension": ".py",
   "mimetype": "text/x-python",
   "name": "python",
   "nbconvert_exporter": "python",
   "pygments_lexer": "ipython3",
   "version": "3.7.4"
  }
 },
 "nbformat": 4,
 "nbformat_minor": 2
}
