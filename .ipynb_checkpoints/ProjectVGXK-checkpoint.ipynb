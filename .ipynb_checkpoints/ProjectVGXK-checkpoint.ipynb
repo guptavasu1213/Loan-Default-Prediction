{
 "cells": [
  {
   "cell_type": "markdown",
   "metadata": {},
   "source": [
    "# Credit Card Default Prediction\n",
    "\n",
    "</Write something about the project/>\n",
    "- Describe the task\n",
    "- Describe the potential issues (imbalanced dataset)"
   ]
  },
  {
   "cell_type": "code",
   "execution_count": null,
   "metadata": {},
   "outputs": [],
   "source": [
    "#Just easy line to do imports\n",
    "import numpy as np\n",
    "import pandas as pd\n",
    "import matplotlib as mpl\n",
    "import matplotlib.pyplot as plt\n",
    "import seaborn as sns\n",
    "import pydot\n",
    "import scipy as sp\n",
    "\n",
    "from sklearn import preprocessing\n",
    "from sklearn.linear_model import LogisticRegression\n",
    "from sklearn.ensemble import RandomForestClassifier\n",
    "from sklearn import svm\n",
    "from sklearn.metrics import accuracy_score\n",
    "from sklearn.model_selection import train_test_split\n",
    "from sklearn.tree import export_graphviz\n",
    "from sklearn.metrics import confusion_matrix\n",
    "from sklearn.metrics import precision_score as PS\n",
    "from sklearn.metrics import recall_score as RS\n",
    "from sklearn.metrics import f1_score as FS\n",
    "from sklearn.decomposition import PCA\n",
    "from sklearn.utils import resample\n",
    "from sklearn.preprocessing import StandardScaler\n",
    "\n",
    "from sklearn.model_selection import learning_curve\n",
    "from sklearn.model_selection import ShuffleSplit\n",
    "\n",
    "from imblearn.over_sampling import SMOTE"
   ]
  },
  {
   "cell_type": "markdown",
   "metadata": {},
   "source": [
    "# 1. Importing data"
   ]
  },
  {
   "cell_type": "code",
   "execution_count": null,
   "metadata": {},
   "outputs": [],
   "source": [
    "#This gets the data\n",
    "app_data = pd.read_csv('dataset/application_data.csv') #App data is for their specific application to the data\n",
    "app_data.head(10)"
   ]
  },
  {
   "cell_type": "code",
   "execution_count": null,
   "metadata": {},
   "outputs": [],
   "source": [
    "print(app_data.shape) #Just so we know the amount of data we're working with"
   ]
  },
  {
   "cell_type": "markdown",
   "metadata": {},
   "source": [
    "# 2. Data Cleaning"
   ]
  },
  {
   "cell_type": "code",
   "execution_count": null,
   "metadata": {},
   "outputs": [],
   "source": [
    "#This one is to determine what things we have to change\n",
    "app_data.dtypes.value_counts()"
   ]
  },
  {
   "cell_type": "markdown",
   "metadata": {},
   "source": [
    "So we need to adjust 16 columns to be effectively used. Scikit has a built-in for this."
   ]
  },
  {
   "cell_type": "code",
   "execution_count": null,
   "metadata": {},
   "outputs": [],
   "source": [
    "app_data.agg(['count', 'size', 'nunique'])"
   ]
  },
  {
   "cell_type": "markdown",
   "metadata": {},
   "source": [
    "### 2.1 Identifying missing data"
   ]
  },
  {
   "cell_type": "code",
   "execution_count": null,
   "metadata": {},
   "outputs": [],
   "source": [
    "#Calculating the percentage of the missing data in each column\n",
    "def missing_data(data):\n",
    "    total = data.isnull().sum() #Total of null values in each column\n",
    "    percent = (total / data.isnull().count()) * 100\n",
    "    unique = data.nunique() #Unique values in entire dataset\n",
    "    datatype = data.dtypes #Finding data types in entire dataset\n",
    "    return pd.concat([total, percent, unique, datatype], axis=1, keys=['Total', 'Percent', 'Unique', 'Data_Type']).sort_values(by = 'Percent', ascending=False)"
   ]
  },
  {
   "cell_type": "code",
   "execution_count": null,
   "metadata": {},
   "outputs": [],
   "source": [
    "metData = missing_data(app_data)\n",
    "metData.head(30) #Percent represents the percentage of missing data"
   ]
  },
  {
   "cell_type": "markdown",
   "metadata": {},
   "source": [
    "### 2.2 Removing features with high missing data\n",
    "This one is to get rid of columns with too much missing data. \n",
    "We used 56.4% as the cutoff in order to keep EXT_SOURCE_1 feature which is important. If the missing data in a column is greater than the cutoff, then we are getting rid of the feature.\n",
    "\n",
    "We chose 56.4% because EXT_SOURCE_1 was cut off there. We could've arbitrarily chosen any value and have had it work."
   ]
  },
  {
   "cell_type": "code",
   "execution_count": null,
   "metadata": {
    "scrolled": true
   },
   "outputs": [],
   "source": [
    "keptColumns = list(metData[(metData.Percent<56.4)].index)\n",
    "appData = app_data[keptColumns]\n",
    "appData.describe()"
   ]
  },
  {
   "cell_type": "markdown",
   "metadata": {},
   "source": [
    "After removing the extra features, we go forward with using 99/122 features."
   ]
  },
  {
   "cell_type": "markdown",
   "metadata": {},
   "source": [
    "### 2.3 Imputing low missing data\n",
    "\n",
    "For seeing the low missing data, cutoff chosen is 15%. This is just visualization. Fill in will be done in preprocessing."
   ]
  },
  {
   "cell_type": "code",
   "execution_count": null,
   "metadata": {},
   "outputs": [],
   "source": [
    "#Extraction of data from given range for edification\n",
    "lowMiss = pd.DataFrame(metData[(metData.Percent > 0) & (metData.Percent<15)])\n",
    "lowMiss"
   ]
  },
  {
   "cell_type": "markdown",
   "metadata": {},
   "source": [
    "### 2.4 Listing Out Data"
   ]
  },
  {
   "cell_type": "code",
   "execution_count": null,
   "metadata": {},
   "outputs": [],
   "source": [
    "#This is so we know the data names for changing to numeric values.\n",
    "obs = appData.select_dtypes('object').columns "
   ]
  },
  {
   "cell_type": "code",
   "execution_count": null,
   "metadata": {},
   "outputs": [],
   "source": [
    "floats = appData.select_dtypes('float').columns\n",
    "ints = appData.select_dtypes('int64').columns"
   ]
  },
  {
   "cell_type": "code",
   "execution_count": null,
   "metadata": {},
   "outputs": [],
   "source": [
    "#Looking for just 2 unique values\n",
    "appData.select_dtypes('int64').apply(pd.Series.nunique, axis = 0) "
   ]
  },
  {
   "cell_type": "markdown",
   "metadata": {},
   "source": [
    "### 2.5 Converting Flag variables(0/1) to Categorical Variables(N/Y)\n",
    "Notice a lot of \"int\" columns have 2 unique values. These are flags or Flag type varibles. Which have no use in bivariate analysis. These can be converted to Yes/No values for categorical analysis."
   ]
  },
  {
   "cell_type": "code",
   "execution_count": null,
   "metadata": {},
   "outputs": [],
   "source": [
    "# Columns with 2 unique values and data type as 'int64'\n",
    "cols_to_convert=list(metData[(metData.Unique==2)&(metData.Data_Type==\"int64\")].index)\n",
    "appData[cols_to_convert] #Shows the columns we have to convert"
   ]
  },
  {
   "cell_type": "code",
   "execution_count": null,
   "metadata": {},
   "outputs": [],
   "source": [
    "#Converts the data types of the columns form (0, 1) to ('N', 'Y')\n",
    "def convert_data(application_data, cols_to_convert):\n",
    "    for y in cols_to_convert:\n",
    "        application_data.loc[:,y].replace((0, 1), ('N', 'Y'), inplace=True)\n",
    "    return application_data\n",
    "\n",
    "#calling the function for application_data\n",
    "appData = convert_data(appData, cols_to_convert)\n",
    "appData[cols_to_convert] #Shows the columns after conversion"
   ]
  },
  {
   "cell_type": "markdown",
   "metadata": {},
   "source": [
    "### 2.6 Changing the target label from (0,1) to (N/Y)\n",
    "\n",
    "We must change target back to its original state"
   ]
  },
  {
   "cell_type": "code",
   "execution_count": null,
   "metadata": {},
   "outputs": [],
   "source": [
    "#Converting 'TARGET' label column from (0,1) to ('N','Y')\n",
    "appData.TARGET.replace(('N', 'Y'), (0, 1), inplace=True)\n",
    "appData"
   ]
  },
  {
   "cell_type": "code",
   "execution_count": null,
   "metadata": {},
   "outputs": [],
   "source": [
    "def getDefaulterAndNondefaulters(data):\n",
    "    defaulter = data[data.TARGET==1] #These are who did default\n",
    "    nonDefaulter = data[data.TARGET==0] #These are who didn't default\n",
    "    return defaulter, nonDefaulter"
   ]
  },
  {
   "cell_type": "code",
   "execution_count": null,
   "metadata": {},
   "outputs": [],
   "source": [
    "defaulter, nonDefaulter = getDefaulterAndNondefaulters(appData)\n",
    "print(defaulter.shape, nonDefaulter.shape)"
   ]
  },
  {
   "cell_type": "markdown",
   "metadata": {},
   "source": [
    "# 3 Data Visualization\n",
    "\n",
    "Here we analyze the data by plotting certain features for defaulter and non-defaulters to compare and gain an insight to the dataset."
   ]
  },
  {
   "cell_type": "markdown",
   "metadata": {},
   "source": [
    "### 3.1 Plotting Charts"
   ]
  },
  {
   "cell_type": "code",
   "execution_count": null,
   "metadata": {},
   "outputs": [],
   "source": [
    "#Got this from machine learning kernels on kaggle\n",
    "# https://www.kaggle.com/snehac47/credit-application-case-study\n",
    "\n",
    "def plot_charts(var, label_rotation,horizontal_layout):\n",
    "    if(horizontal_layout):\n",
    "        fig, (ax1, ax2) = plt.subplots(ncols=2, figsize=(10,5))\n",
    "    else:\n",
    "        fig, (ax1, ax2) = plt.subplots(nrows=2, figsize=(15,20))\n",
    "    \n",
    "    s1=sns.countplot(ax=ax1,x=defaulter[var], data=defaulter, order= defaulter[var].value_counts().index,)\n",
    "    ax1.set_title('Distribution of '+ '%s' %var +' for Defaulters', fontsize=10)\n",
    "    ax1.set_xlabel('%s' %var)\n",
    "    ax1.set_ylabel(\"Count of Loans\")\n",
    "    if(label_rotation):\n",
    "        s1.set_xticklabels(s1.get_xticklabels(),rotation=90)\n",
    "    s2=sns.countplot(ax=ax2,x=nonDefaulter[var], data=nonDefaulter, order= nonDefaulter[var].value_counts().index,)\n",
    "    if(label_rotation):\n",
    "        s2.set_xticklabels(s2.get_xticklabels(),rotation=90)\n",
    "    ax2.set_xlabel('%s' %var)\n",
    "    ax2.set_ylabel(\"Count of Loans\")\n",
    "    ax2.set_title('Distribution of '+ '%s' %var +' for Non-Defaulters', fontsize=10)\n",
    "    plt.show()"
   ]
  },
  {
   "cell_type": "markdown",
   "metadata": {},
   "source": [
    "Obviously, more individuals and organizations are looking for cash loans."
   ]
  },
  {
   "cell_type": "code",
   "execution_count": null,
   "metadata": {},
   "outputs": [],
   "source": [
    "plot_charts('NAME_CONTRACT_TYPE', False, True)"
   ]
  },
  {
   "cell_type": "markdown",
   "metadata": {},
   "source": [
    "More women were looking for loans than men."
   ]
  },
  {
   "cell_type": "code",
   "execution_count": null,
   "metadata": {},
   "outputs": [],
   "source": [
    "plot_charts('CODE_GENDER', False, True)"
   ]
  },
  {
   "cell_type": "code",
   "execution_count": null,
   "metadata": {},
   "outputs": [],
   "source": [
    "plot_charts('FLAG_OWN_REALTY', False, True)"
   ]
  },
  {
   "cell_type": "code",
   "execution_count": null,
   "metadata": {},
   "outputs": [],
   "source": [
    "plot_charts('FLAG_OWN_CAR', False, True)"
   ]
  },
  {
   "cell_type": "code",
   "execution_count": null,
   "metadata": {},
   "outputs": [],
   "source": [
    "plot_charts('NAME_HOUSING_TYPE', True, False)"
   ]
  },
  {
   "cell_type": "markdown",
   "metadata": {},
   "source": [
    "Ratio of people who live with parents and default is higher than the non-defaulters. This could be correlated with age, we'll have to look into age to see if that ratio remains similar, as it might just be an insight that younger people tend to default more."
   ]
  },
  {
   "cell_type": "code",
   "execution_count": null,
   "metadata": {},
   "outputs": [],
   "source": [
    "plot_charts('NAME_HOUSING_TYPE', True, False)"
   ]
  },
  {
   "cell_type": "code",
   "execution_count": null,
   "metadata": {},
   "outputs": [],
   "source": [
    "# The dataset has 'DAYS_BIRTH' as a negative number representing the number of days since the birth of the user \n",
    "appData['AGE'] = appData['DAYS_BIRTH'] / -365\n",
    "plt.hist(appData['AGE'])\n",
    "plt.title('Age in years')"
   ]
  },
  {
   "cell_type": "markdown",
   "metadata": {},
   "source": [
    "Now I want to see who is looking for loans, as well as what types of businesses are looking for loans."
   ]
  },
  {
   "cell_type": "code",
   "execution_count": null,
   "metadata": {},
   "outputs": [],
   "source": [
    "plot_charts('OCCUPATION_TYPE', True, False)"
   ]
  },
  {
   "cell_type": "code",
   "execution_count": null,
   "metadata": {},
   "outputs": [],
   "source": [
    "plot_charts('ORGANIZATION_TYPE', True, False)"
   ]
  },
  {
   "cell_type": "markdown",
   "metadata": {},
   "source": [
    "# 4. Removing Outliers"
   ]
  },
  {
   "cell_type": "code",
   "execution_count": null,
   "metadata": {},
   "outputs": [],
   "source": [
    "#Plotting histogram and box plot for a given feature to the function\n",
    "def plot_boxhist(var):\n",
    "    plt.figure(figsize=(15,5))\n",
    "    plt.subplot(1, 2, 1)\n",
    "    s=sns.boxplot(y=defaulters[var]);\n",
    "    plt.title('Box Plot of '+ '%s' %var +' for Defaulters', fontsize=10)\n",
    "    plt.xlabel('%s' %var)\n",
    "    plt.ylabel(\"Count of Loans\")\n",
    "    plt.subplot(1, 2, 2)\n",
    "    s=plt.hist(x=defaulters[var]);\n",
    "    plt.xlabel('%s' %var)\n",
    "    plt.ylabel(\"Count of Loans\")\n",
    "    plt.title('Histogram of '+ '%s' %var +' for Defaulters', fontsize=10)\n",
    "    plt.show()"
   ]
  },
  {
   "cell_type": "code",
   "execution_count": null,
   "metadata": {},
   "outputs": [],
   "source": [
    "#Removing all entries above 99 percentile\n",
    "appData=appData[appData.AMT_INCOME_TOTAL<np.nanpercentile(appData['AMT_INCOME_TOTAL'], 99)]\n",
    "#update defaulters and non-defaulters after outlier removal\n",
    "defaulters, nondefaulters = getDefaulterAndNondefaulters(appData)\n",
    "\n",
    "# Graphing after the outlier removal\n",
    "plot_boxhist('AMT_INCOME_TOTAL')"
   ]
  },
  {
   "cell_type": "code",
   "execution_count": null,
   "metadata": {},
   "outputs": [],
   "source": [
    "defaulter.loc[:,'INCOME_BRACKET']=pd.qcut(appData.loc[:,'AMT_INCOME_TOTAL'],q=[0,0.10,0.35,0.50,0.90,1], labels=['Very_low','Low','Medium','High','Very_high'])\n",
    "nonDefaulter.loc[:,'INCOME_BRACKET']=pd.qcut(appData.loc[:,'AMT_INCOME_TOTAL'],q=[0,0.10,0.35,0.50,0.90,1], labels=['Very_low','Low','Medium','High','Very_high'])"
   ]
  },
  {
   "cell_type": "code",
   "execution_count": null,
   "metadata": {},
   "outputs": [],
   "source": [
    "plot_charts('INCOME_BRACKET', True, True)"
   ]
  },
  {
   "cell_type": "markdown",
   "metadata": {},
   "source": [
    "As we can see, everything follows about the same patter, but with more low income people defaulting, and more very high income people not defaulting. "
   ]
  },
  {
   "cell_type": "markdown",
   "metadata": {},
   "source": [
    "# 5. Label Encoding\n",
    "The labels are changed from ...##########??? \n",
    "The numerical missing data is filled with the mean values of the columns"
   ]
  },
  {
   "cell_type": "code",
   "execution_count": null,
   "metadata": {},
   "outputs": [],
   "source": [
    "############???? Documentation?\n",
    "def dataSetup(appData):\n",
    "    le = preprocessing.LabelEncoder()\n",
    "    for CName in appData.drop('TARGET', axis = 1).columns:\n",
    "        if type(appData[CName][1]) == str:\n",
    "            appData[CName] = appData[CName].fillna(\"Unknown\")\n",
    "        else:\n",
    "            appData[CName] = appData[CName].fillna(appData[CName].mean(), inplace=True)\n",
    "        \n",
    "        if CName == 'TARGET': pass\n",
    "        else:\n",
    "            appData[CName] = le.fit_transform(appData[CName])\n",
    "    return appData, appData['TARGET'], appData.drop('TARGET', axis = 1)"
   ]
  },
  {
   "cell_type": "code",
   "execution_count": null,
   "metadata": {},
   "outputs": [],
   "source": [
    "finalAppData, labels, feats= dataSetup(appData)\n",
    "defaulters, nondefaulters = getDefaulterAndNondefaulters(finalAppData)"
   ]
  },
  {
   "cell_type": "code",
   "execution_count": null,
   "metadata": {},
   "outputs": [],
   "source": [
    "feats = np.array(feats)\n",
    "labels = np.array(labels)"
   ]
  },
  {
   "cell_type": "markdown",
   "metadata": {},
   "source": [
    "# 6. Model Creation (without dealing with data imbalancement)"
   ]
  },
  {
   "cell_type": "markdown",
   "metadata": {},
   "source": [
    "## 6.#### Learning Curve\n",
    "Creating learning curve for the model after training"
   ]
  },
  {
   "cell_type": "code",
   "execution_count": null,
   "metadata": {},
   "outputs": [],
   "source": [
    "# https://www.dataquest.io/blog/learning-curves-machine-learning/\n",
    "def draw_learning_curve(model, x, labels, cv, numTrainSizes, modelName):\n",
    "    trainingSetSize = len(x)*0.66 #Training set is 66% always\n",
    "    train_sizes = []\n",
    "    for i in range(numTrainSizes):\n",
    "        train_sizes.append((i+1)*int(trainingSetSize//numTrainSizes))\n",
    "    print(\"Training sizes\", train_sizes)\n",
    "    \n",
    "    #Feature scaling\n",
    "    std_scaler = StandardScaler()    \n",
    "    xScaled = std_scaler.fit_transform(x)    \n",
    "    \n",
    "    train_sizes, train_scores, validation_scores = learning_curve(estimator=model, X=xScaled, y=labels, cv=cv, train_sizes=train_sizes, scoring='neg_mean_squared_error') \n",
    "#     print(\"Val scores:\", validation_scores)\n",
    "#     print(\"Train Scores:\", train_scores)\n",
    "    \n",
    "    train_scores_mean = -train_scores.mean(axis = 1)\n",
    "    validation_scores_mean = -validation_scores.mean(axis = 1)\n",
    "    print('Mean training scores\\n\\n', pd.Series(train_scores_mean, index = train_sizes))\n",
    "    print('\\n', '-' * 20) # separator\n",
    "    print('\\nMean validation scores\\n\\n',pd.Series(validation_scores_mean, index = train_sizes))\n",
    "\n",
    "    plt.style.use('seaborn')\n",
    "    plt.plot(train_sizes, train_scores_mean, label = 'Training error')\n",
    "    plt.plot(train_sizes, validation_scores_mean, label = 'Validation error')\n",
    "    plt.ylabel('MSE', fontsize = 14)\n",
    "    plt.xlabel('Training set size', fontsize = 14)\n",
    "    plt.title(str('Learning curves for '+modelName+' model'), fontsize = 18, y = 1.03)\n",
    "    plt.legend()\n",
    "    return plt\n",
    "    # plt.xlim(0,10000)\n",
    "    # plt.ylim(0.85,1)"
   ]
  },
  {
   "cell_type": "markdown",
   "metadata": {},
   "source": [
    "## 6.1 Random Forest Model"
   ]
  },
  {
   "cell_type": "code",
   "execution_count": null,
   "metadata": {},
   "outputs": [],
   "source": [
    "def trainAndPredictRandomForest(xTrain, yTrain, xTest, yTest):\n",
    "    #Feature scaling\n",
    "    std_scaler = StandardScaler()    \n",
    "    xTrain = std_scaler.fit_transform(xTrain)\n",
    "    xTest = std_scaler.transform(xTest)\n",
    "    \n",
    "    # Model training\n",
    "    rf = RandomForestClassifier(n_estimators = 1000, max_depth = 25)\n",
    "    rf.fit(xTrain, yTrain)\n",
    "    \n",
    "    # Model predicting \n",
    "    predictions = rf.predict(xTest)\n",
    "    print(\"Prediction:\" , np.average(predictions == yTest))\n",
    "    return predictions, rf"
   ]
  },
  {
   "cell_type": "markdown",
   "metadata": {},
   "source": [
    "## 6.2 Logistic Regression Model"
   ]
  },
  {
   "cell_type": "code",
   "execution_count": null,
   "metadata": {},
   "outputs": [],
   "source": [
    "# Returns the prediction of the test data and the model itself\n",
    "def trainAndPredictLogisticReg(xTrain, yTrain, xTest, yTest):\n",
    "    #Feature scaling\n",
    "    std_scaler = StandardScaler()    \n",
    "    xTrain = std_scaler.fit_transform(xTrain)\n",
    "    xTest = std_scaler.transform(xTest)\n",
    "    \n",
    "    # Model training\n",
    "    reg = LogisticRegression(random_state = 27).fit(xTrain, yTrain)\n",
    "    \n",
    "    # Model predicting\n",
    "    prediction = reg.predict(xTest)\n",
    "    print(\"Prediction:\" , np.average(prediction == yTest))\n",
    "    return prediction, reg"
   ]
  },
  {
   "cell_type": "markdown",
   "metadata": {},
   "source": [
    "## 6.3 SVM Model"
   ]
  },
  {
   "cell_type": "code",
   "execution_count": null,
   "metadata": {},
   "outputs": [],
   "source": [
    "# Returns the prediction of the test data and the model itself\n",
    "def trainAndPredictSVM(xTrain, yTrain, xTest, yTest):\n",
    "    #Feature scaling\n",
    "    std_scaler = StandardScaler()    \n",
    "    xTrain = std_scaler.fit_transform(xTrain)\n",
    "    xTest = std_scaler.transform(xTest)\n",
    "    \n",
    "    # Model training\n",
    "    linearSVM = svm.LinearSVC(C=1, max_iter=1000)\n",
    "    linearSVM.fit(xTrain, yTrain)\n",
    "    \n",
    "    # Model predicting\n",
    "    prediction = linearSVM.predict(xTest)\n",
    "    print(\"Prediction:\" , np.average(prediction == yTest))\n",
    "    return prediction, linearSVM"
   ]
  },
  {
   "cell_type": "markdown",
   "metadata": {},
   "source": [
    "## 6.4 Cross Validation\n",
    "\n",
    "################????? EXPLAIN"
   ]
  },
  {
   "cell_type": "code",
   "execution_count": null,
   "metadata": {},
   "outputs": [],
   "source": [
    "from sklearn.model_selection import StratifiedShuffleSplit as sss\n",
    "# Creating 3 splits\n",
    "stratifiedShuffSplitter = sss(n_splits=3, test_size = .33, random_state = 27)"
   ]
  },
  {
   "cell_type": "code",
   "execution_count": null,
   "metadata": {},
   "outputs": [],
   "source": [
    "# - Evaluating the Models by calculating Precision, Recall, F1 score and confusion matrix\n",
    "def evaluateModel(yActual, yPredicted):\n",
    "    print(np.average(yPredicted == yActual), \"Average Correct\")\n",
    "    print(PS(yActual, yPredicted, average='micro'), \"Number for Precision score\")\n",
    "    print(RS(yActual, yPredicted, average='micro'), \"Number for Recall Score\")\n",
    "    print(FS(yActual, yPredicted, average='micro'), \"Number for F1 score\")\n",
    "    \n",
    "    #Plotting the confusion matrix\n",
    "    confusionMat = confusion_matrix(yActual, yPredicted)\n",
    "    np.fill_diagonal(confusionMat, 0)\n",
    "    plt.matshow(confusionMat)"
   ]
  },
  {
   "cell_type": "code",
   "execution_count": null,
   "metadata": {},
   "outputs": [],
   "source": [
    "# - Creating the Model\n",
    "# - Running Predictions \n",
    "# - Evaluating the Models by calculating Precision, Recall, F1 score and confusion matrix\n",
    "# - Cross validating the model with the number of folds specified in the shuffler\n",
    "def createAndCrossRandomForest(xData, labels, stratifiedShuffSplitter):\n",
    "    counter = 0\n",
    "    # Running the cross validation on the number of sets specified on the \n",
    "    # splitter\n",
    "    for train_index, test_index in stratifiedShuffSplitter.split(xData, labels):\n",
    "        counter += 1\n",
    "        print(\"\\n=============\\nRunning the\", counter, \"set\")\n",
    "        print(train_index.shape, test_index.shape)        \n",
    "        xTrain, yTrain = xData[train_index], labels[train_index]\n",
    "        xTest, yTest = xData[test_index], labels[test_index]\n",
    "\n",
    "        #Feature scaling\n",
    "        std_scaler = StandardScaler()    \n",
    "        xTrain = std_scaler.fit_transform(xTrain)\n",
    "        xTest = std_scaler.transform(xTest)\n",
    "        \n",
    "        # Training and predicting Random forest\n",
    "        print(\"\\nRunning Random Forest\")\n",
    "        rf = RandomForestClassifier(n_estimators = 1000, max_depth = 10)\n",
    "        rf.fit(xTrain, yTrain)\n",
    "        predictions = rf.predict(xTest)\n",
    "        draw_learning_curve()\n",
    "        evaluateModel(yTest, predictions) \n",
    "        plt.show()\n",
    "        \n",
    "        model = RandomForestClassifier(n_estimators = 1000, max_depth = 10)\n",
    "        draw_learning_curve(model=model, x=xData, labels=labels, cv=5, numTrainSizes=20, modelName=str(\"Random Forest Split Num:\"+str(counter)))\n",
    "        plt.show()"
   ]
  },
  {
   "cell_type": "code",
   "execution_count": null,
   "metadata": {},
   "outputs": [],
   "source": [
    "# - Creating the Models\n",
    "# - Running Predictions \n",
    "# - Evaluating the Models by calculating Precision, Recall, F1 score and confusion matrix\n",
    "# - Cross validating the model with the number of folds specified in the shuffler\n",
    "def createAndCrossLogisticReg(xData, labels, stratifiedShuffSplitter):\n",
    "    counter = 0\n",
    "    # Running the cross validation on the number of sets specified on the \n",
    "    # splitter\n",
    "    for train_index, test_index in stratifiedShuffSplitter.split(xData, labels):\n",
    "        counter += 1\n",
    "        print(\"\\n\\n Running the\", counter, \"set\")\n",
    "        print(train_index.shape, test_index.shape)        \n",
    "        xTrain, yTrain = xData[train_index], labels[train_index]\n",
    "        xTest, yTest = xData[test_index], labels[test_index]\n",
    "\n",
    "        #Feature scaling\n",
    "        std_scaler = StandardScaler()    \n",
    "        xTrain = std_scaler.fit_transform(xTrain)\n",
    "        xTest = std_scaler.transform(xTest)\n",
    "        \n",
    "        # Training and predicting Logistic Regression\n",
    "        print(\"\\nRunning Logistic Regression\")\n",
    "        reg = LogisticRegression(random_state = 0).fit(xTrain, yTrain)\n",
    "        predictions = reg.predict(xTest)\n",
    "        evaluateModel(yTest, predictions)\n",
    "        plt.show()\n",
    "        \n",
    "        model = LogisticRegression(random_state = 0)\n",
    "        draw_learning_curve(model=model, x=xData, labels=labels, cv=5, numTrainSizes=20, modelName=str(\"Logistic Regression Split Num:\"+str(counter)))        \n",
    "        plt.show()"
   ]
  },
  {
   "cell_type": "code",
   "execution_count": null,
   "metadata": {},
   "outputs": [],
   "source": [
    "# - Creating the Models\n",
    "# - Running Predictions \n",
    "# - Evaluating the Models by calculating Precision, Recall, F1 score and confusion matrix\n",
    "# - Cross validating the model with the number of folds specified in the shuffler\n",
    "def createAndCrossSVM(xData, labels, stratifiedShuffSplitter):\n",
    "    counter = 0\n",
    "    # Running the cross validation on the number of sets specified on the \n",
    "    # splitter\n",
    "    for train_index, test_index in stratifiedShuffSplitter.split(xData, labels):\n",
    "        counter += 1\n",
    "        print(\"\\n\\n Running the\", counter, \"set\")\n",
    "        print(train_index.shape, test_index.shape)        \n",
    "        xTrain, yTrain = xData[train_index], labels[train_index]\n",
    "        xTest, yTest = xData[test_index], labels[test_index]\n",
    "\n",
    "        #Feature scaling\n",
    "        std_scaler = StandardScaler()    \n",
    "        xTrain = std_scaler.fit_transform(xTrain)\n",
    "        xTest = std_scaler.transform(xTest)\n",
    "        \n",
    "        print(\"\\nRunning SVM\")\n",
    "        # Model training\n",
    "        linearSVM = svm.LinearSVC(C=1, max_iter=1000)\n",
    "        linearSVM.fit(xTrain, yTrain)\n",
    "\n",
    "        # Model predicting\n",
    "        predictions = linearSVM.predict(xTest)\n",
    "        evaluateModel(yTest, predictions)\n",
    "        plt.show()\n",
    "        \n",
    "        model = svm.LinearSVC(C=1, max_iter=1000)\n",
    "        draw_learning_curve(model=model, x=xData, labels=labels, cv=5, numTrainSizes=20, modelName=str(\"SVM Split Num:\"+str(counter)))\n",
    "        plt.show()"
   ]
  },
  {
   "cell_type": "markdown",
   "metadata": {},
   "source": [
    "### 6.4.1 Cross validation with all filtered features\n",
    "Creating and evaluating the models with all the 99 filtered features after the data cleanup "
   ]
  },
  {
   "cell_type": "code",
   "execution_count": null,
   "metadata": {},
   "outputs": [],
   "source": [
    "# createAndCrossRandomForest(feats, labels, stratifiedShuffSplitter)"
   ]
  },
  {
   "cell_type": "code",
   "execution_count": null,
   "metadata": {},
   "outputs": [],
   "source": [
    "# createAndCrossLogisticReg(feats, labels, stratifiedShuffSplitter)"
   ]
  },
  {
   "cell_type": "code",
   "execution_count": null,
   "metadata": {},
   "outputs": [],
   "source": [
    "# createAndCrossSVM(feats, labels, stratifiedShuffSplitter)"
   ]
  },
  {
   "cell_type": "markdown",
   "metadata": {},
   "source": [
    "### 6.4.2 Cross validation with reduced dimensionality using PCA\n",
    "\n",
    "##??? Documentation"
   ]
  },
  {
   "cell_type": "code",
   "execution_count": null,
   "metadata": {},
   "outputs": [],
   "source": [
    "def projData(myX, myU, K):\n",
    "    return myX @ myU[:, :K]"
   ]
  },
  {
   "cell_type": "code",
   "execution_count": null,
   "metadata": {},
   "outputs": [],
   "source": [
    "loweredDimension = 30 #Reducing to features \n",
    "\n",
    "scaler = StandardScaler() #Set up scaler\n",
    "xScaled = scaler.fit_transform(feats) #Have to scale features for PCA to work\n",
    "\n",
    "covariance = (1 / xScaled.shape[0]) * xScaled.T @ xScaled #Calculate the covariance matrix for Singular Value decomp\n",
    "U, S, V = sp.linalg.svd(covariance)\n",
    "\n",
    "xReduced = projData(xScaled, U, loweredDimension) #Projects data into lower dimension "
   ]
  },
  {
   "cell_type": "code",
   "execution_count": null,
   "metadata": {},
   "outputs": [],
   "source": [
    "# Creating and evaluating models with reduced dimensionality\n",
    "# createAndCrossRandomForest(xReduced, labels, stratifiedShuffSplitter)\n",
    "# createAndCrossLogisticReg(xReduced, labels, stratifiedShuffSplitter)\n",
    "# createAndCrossSVM(xReduced, labels, stratifiedShuffSplitter)"
   ]
  },
  {
   "cell_type": "markdown",
   "metadata": {},
   "source": [
    "### 6.4.3 Cross validation using important features\n",
    "The models are created using the important data found using Random Forest and LR"
   ]
  },
  {
   "cell_type": "markdown",
   "metadata": {},
   "source": [
    "#### Random Forest\n",
    "Finding important features from random forest"
   ]
  },
  {
   "cell_type": "code",
   "execution_count": null,
   "metadata": {},
   "outputs": [],
   "source": [
    "# Combine all the train the samples from the sss\n",
    "stratifiedShuffSplitterRF = sss(n_splits=1, test_size = .33, random_state = 27)\n",
    "\n",
    "# Running the cross validation on the number of sets specified on the \n",
    "# splitter\n",
    "for train_indices, test_indices in stratifiedShuffSplitterRF.split(feats, labels):\n",
    "    xTrain, yTrain = feats[train_indices], labels[train_indices]\n",
    "    xTest, yTest = feats[test_indices], labels[test_indices]"
   ]
  },
  {
   "cell_type": "code",
   "execution_count": null,
   "metadata": {},
   "outputs": [],
   "source": [
    "# Run RF on the test and train data.\n",
    "predictions, rf = trainAndPredictRandomForest(xTrain, yTrain, xTest, yTest)"
   ]
  },
  {
   "cell_type": "markdown",
   "metadata": {},
   "source": [
    "#### Logistic Regression\n",
    "Finding important features from Logistic Regression"
   ]
  },
  {
   "cell_type": "code",
   "execution_count": null,
   "metadata": {},
   "outputs": [],
   "source": [
    "# Run LR on the test and train data.\n",
    "predictions, lr = trainAndPredictLogisticReg(xTrain, yTrain, xTest, yTest)"
   ]
  },
  {
   "cell_type": "markdown",
   "metadata": {},
   "source": [
    "#### Identifying important data"
   ]
  },
  {
   "cell_type": "code",
   "execution_count": null,
   "metadata": {},
   "outputs": [],
   "source": [
    "# Find the important features of RF\n",
    "RFimportances = rf.feature_importances_\n",
    "# print(RFimportances)\n",
    "\n",
    "# Find the important features of LR\n",
    "LRimportances = lr.coef_[0]\n",
    "# print(LRimportances)\n",
    "        \n",
    "# Remove the less important features from the original dataset\n",
    "colsToDelete = []\n",
    "for i in range(len(RFimportances)):\n",
    "    if RFimportances[i] == 0 or LRimportances[i] == 0:\n",
    "        colsToDelete.append(i)\n",
    "impFeats = np.delete(feats, colsToDelete, axis=1)\n",
    "print(impFeats.shape)"
   ]
  },
  {
   "cell_type": "markdown",
   "metadata": {},
   "source": [
    "There are only 46 features which have weight towards the prediction"
   ]
  },
  {
   "cell_type": "markdown",
   "metadata": {},
   "source": [
    "#### Cross Validation for all models"
   ]
  },
  {
   "cell_type": "code",
   "execution_count": null,
   "metadata": {},
   "outputs": [],
   "source": [
    "# createAndCrossRandomForest(impFeats, labels, stratifiedShuffSplitter)"
   ]
  },
  {
   "cell_type": "code",
   "execution_count": null,
   "metadata": {},
   "outputs": [],
   "source": [
    "# createAndCrossLogisticReg(impFeats, labels, stratifiedShuffSplitter)"
   ]
  },
  {
   "cell_type": "code",
   "execution_count": null,
   "metadata": {},
   "outputs": [],
   "source": [
    "# createAndCrossSVM(impFeats, labels, stratifiedShuffSplitter)"
   ]
  },
  {
   "cell_type": "markdown",
   "metadata": {},
   "source": [
    "# 7. Model Creation (Dealing with data imbalancement)\n",
    "\n",
    "Most of the machine learning algorithms work the best when the samples in each class are about equal. \n",
    "\n",
    "In case of our data set, we have 307,511 total entries out of which 282,686 values are non-defaulters and only 24,825 entries are of defaulters. So the minority class is only about 8% of the entire data set.\n",
    "\n",
    "There are different techniques which resolve the issue of over sampling. All these techniques are implemented below. (Source: https://towardsdatascience.com/methods-for-dealing-with-imbalanced-data-5b761be45a18)"
   ]
  },
  {
   "cell_type": "markdown",
   "metadata": {},
   "source": [
    "## 7.1 Identifying defaulters and non-defaulters"
   ]
  },
  {
   "cell_type": "markdown",
   "metadata": {},
   "source": [
    "### 7.1.1 Extracting Defaulters and Non Defaulters using filtered data\n",
    "Using the filtered data after data cleanup, the defaulters and non defaulters were identified"
   ]
  },
  {
   "cell_type": "code",
   "execution_count": null,
   "metadata": {},
   "outputs": [],
   "source": [
    "filteredDefaulters, filteredNonDefaulters = getDefaulterAndNondefaulters(finalAppData)"
   ]
  },
  {
   "cell_type": "markdown",
   "metadata": {},
   "source": [
    "### 7.1.2 Extracting Defaulters and Non Defaulters using important features\n",
    "Using the data after finding the important features through Random Forest and Logistic Regression Models, the defaulters and non defaulters were identified"
   ]
  },
  {
   "cell_type": "code",
   "execution_count": null,
   "metadata": {},
   "outputs": [],
   "source": [
    "# Getting the data of important features from the dataframe\n",
    "colNames = finalAppData.drop('TARGET', axis= 1).columns[colsToDelete]\n",
    "importantData = finalAppData.drop(colNames, axis=1) #Drop all the irrelevant columns   "
   ]
  },
  {
   "cell_type": "code",
   "execution_count": null,
   "metadata": {},
   "outputs": [],
   "source": [
    "# Getting the data for defaulter and nondefaulter classes from the important features only \n",
    "impDefaulters, impNonDefaulters = getDefaulterAndNondefaulters(importantData)"
   ]
  },
  {
   "cell_type": "markdown",
   "metadata": {},
   "source": [
    "### 7.1.3 Extracting Defaulters and Non Defaulters using PCA data\n",
    "Using the reduced data by running PCA, the defaulters and Non defaulters are determined"
   ]
  },
  {
   "cell_type": "code",
   "execution_count": null,
   "metadata": {},
   "outputs": [],
   "source": [
    "# Creating a pandas dataframe for the reduced data by PCA\n",
    "reducedDataDict = {}\n",
    "#Creating the dictionary for the columns\n",
    "for i in range(loweredDimension):\n",
    "    reducedDataDict[\"C\"+str(i+1)] = xReduced[:,i]\n",
    "reducedDataDict[\"TARGET\"] = labels\n",
    "\n",
    "pcaData = pd.DataFrame(reducedDataDict, columns=list(reducedDataDict.keys()))\n",
    "pcaData.head(10)\n",
    "\n",
    "pcaDefaulters, pcaNonDefaulters = getDefaulterAndNondefaulters(pcaData)"
   ]
  },
  {
   "cell_type": "code",
   "execution_count": null,
   "metadata": {},
   "outputs": [],
   "source": [
    "# Splitting the dataset into Labels and Features\n",
    "def getFeaturesAndLabels(data):\n",
    "    labels = data.TARGET\n",
    "    features = data.drop('TARGET', axis = 1)\n",
    "    return features, labels"
   ]
  },
  {
   "cell_type": "markdown",
   "metadata": {},
   "source": [
    "## 7.2 Undersampling Majority Class\n",
    "Undersampling is a method of removing data from the majority class. This method is a good choice when we have a huge dataset.\n",
    "\n",
    "Drawback- We might remove valuable data which might lead to an underfit and poor generalization to the test data set."
   ]
  },
  {
   "cell_type": "code",
   "execution_count": null,
   "metadata": {},
   "outputs": [],
   "source": [
    "#Downsampling the majority class\n",
    "def downsampleMajority(non_defaulter, defaulter):    \n",
    "    non_defaulters_downsampled = resample(non_defaulter,\n",
    "                                         replace = False, # resample without replacement\n",
    "                                         n_samples = len(defaulter), # Minority Class\n",
    "                                         random_state = 27) # reproducible results\n",
    "\n",
    "    # Combining minority and downsampled majority class\n",
    "    downsampledData = pd.concat([non_defaulters_downsampled, defaulter])\n",
    "    return downsampledData"
   ]
  },
  {
   "cell_type": "code",
   "execution_count": null,
   "metadata": {},
   "outputs": [],
   "source": [
    "# Getting the test and train split from the downsampled data\n",
    "def getTestTrainDownsampled(downsampledData):\n",
    "    # Extracting the features and labels\n",
    "    downSampledFeatures, downSampledLabels = getFeaturesAndLabels(downsampledData)\n",
    "\n",
    "    # Split the data into test and train\n",
    "    trainFeatUnderSamp, testFeatUnderSamp, trainLabelsUnderSamp, testLabelsUnderSamp = train_test_split(downSampledFeatures, downSampledLabels, test_size=0.33, random_state=27)\n",
    "    return trainFeatUnderSamp, testFeatUnderSamp, trainLabelsUnderSamp, testLabelsUnderSamp"
   ]
  },
  {
   "cell_type": "markdown",
   "metadata": {},
   "source": [
    "### 7.2.1 Undersampling using filtered features\n",
    "Using the data after peforming the data cleanup"
   ]
  },
  {
   "cell_type": "code",
   "execution_count": null,
   "metadata": {},
   "outputs": [],
   "source": [
    "# Verifying counts for Defaulter and Non-Defaulter classes\n",
    "filDownSampledData = downsampleMajority(filteredNonDefaulters, filteredDefaulters)\n",
    "filDownSampledData.TARGET.value_counts()\n",
    "\n",
    "# Getting the undersampled train data and test data\n",
    "xTrainUnderSamp, xTestUnderSamp, yTrainUnderSamp, yTestUnderSamp = getTestTrainDownsampled(filDownSampledData)"
   ]
  },
  {
   "cell_type": "markdown",
   "metadata": {},
   "source": [
    "#### Logistic Regression\n",
    "Running logistic regression for undersampled data"
   ]
  },
  {
   "cell_type": "code",
   "execution_count": 97,
   "metadata": {},
   "outputs": [
    {
     "name": "stdout",
     "output_type": "stream",
     "text": [
      "Prediction: 0.5844291507926754\n",
      "0.5844291507926754 Average Correct\n",
      "0.5844291507926754 Number for Precision score\n",
      "0.5844291507926754 Number for Recall Score\n",
      "0.5844291507926754 Number for F1 score\n"
     ]
    },
    {
     "data": {
      "image/png": "[encoded data removed]",
      "text/plain": [
       "<Figure size 396x396 with 1 Axes>"
      ]
     },
     "metadata": {},
     "output_type": "display_data"
    }
   ],
   "source": [
    "# Training and Predicting Logistic Regression Model\n",
    "predictions, lr = trainAndPredictLogisticReg(xTrainUnderSamp, yTrainUnderSamp, xTestUnderSamp, yTestUnderSamp)\n",
    "evaluateModel(yTestUnderSamp, predictions)"
   ]
  },
  {
   "cell_type": "code",
   "execution_count": 96,
   "metadata": {},
   "outputs": [
    {
     "name": "stdout",
     "output_type": "stream",
     "text": [
      "Training sizes [3254, 6508, 9762, 13016, 16270, 19524, 22778, 26032, 29286, 32540]\n"
     ]
    },
    {
     "name": "stderr",
     "output_type": "stream",
     "text": [
      "F:\\Downloads\\Anaconda\\lib\\site-packages\\sklearn\\model_selection\\_validation.py:536: FitFailedWarning: Estimator fit failed. The score on this train-test partition for these parameters will be set to nan. Details: \n",
      "ValueError: This solver needs samples of at least 2 classes in the data, but the data contains only one class: 0\n",
      "\n",
      "  FitFailedWarning)\n",
      "F:\\Downloads\\Anaconda\\lib\\site-packages\\sklearn\\model_selection\\_validation.py:536: FitFailedWarning: Estimator fit failed. The score on this train-test partition for these parameters will be set to nan. Details: \n",
      "ValueError: This solver needs samples of at least 2 classes in the data, but the data contains only one class: 0\n",
      "\n",
      "  FitFailedWarning)\n",
      "F:\\Downloads\\Anaconda\\lib\\site-packages\\sklearn\\model_selection\\_validation.py:536: FitFailedWarning: Estimator fit failed. The score on this train-test partition for these parameters will be set to nan. Details: \n",
      "ValueError: This solver needs samples of at least 2 classes in the data, but the data contains only one class: 0\n",
      "\n",
      "  FitFailedWarning)\n",
      "F:\\Downloads\\Anaconda\\lib\\site-packages\\sklearn\\model_selection\\_validation.py:536: FitFailedWarning: Estimator fit failed. The score on this train-test partition for these parameters will be set to nan. Details: \n",
      "ValueError: This solver needs samples of at least 2 classes in the data, but the data contains only one class: 0\n",
      "\n",
      "  FitFailedWarning)\n",
      "F:\\Downloads\\Anaconda\\lib\\site-packages\\sklearn\\model_selection\\_validation.py:536: FitFailedWarning: Estimator fit failed. The score on this train-test partition for these parameters will be set to nan. Details: \n",
      "ValueError: This solver needs samples of at least 2 classes in the data, but the data contains only one class: 0\n",
      "\n",
      "  FitFailedWarning)\n",
      "F:\\Downloads\\Anaconda\\lib\\site-packages\\sklearn\\model_selection\\_validation.py:536: FitFailedWarning: Estimator fit failed. The score on this train-test partition for these parameters will be set to nan. Details: \n",
      "ValueError: This solver needs samples of at least 2 classes in the data, but the data contains only one class: 0\n",
      "\n",
      "  FitFailedWarning)\n",
      "F:\\Downloads\\Anaconda\\lib\\site-packages\\sklearn\\model_selection\\_validation.py:536: FitFailedWarning: Estimator fit failed. The score on this train-test partition for these parameters will be set to nan. Details: \n",
      "ValueError: This solver needs samples of at least 2 classes in the data, but the data contains only one class: 0\n",
      "\n",
      "  FitFailedWarning)\n",
      "F:\\Downloads\\Anaconda\\lib\\site-packages\\sklearn\\model_selection\\_validation.py:536: FitFailedWarning: Estimator fit failed. The score on this train-test partition for these parameters will be set to nan. Details: \n",
      "ValueError: This solver needs samples of at least 2 classes in the data, but the data contains only one class: 0\n",
      "\n",
      "  FitFailedWarning)\n",
      "F:\\Downloads\\Anaconda\\lib\\site-packages\\sklearn\\model_selection\\_validation.py:536: FitFailedWarning: Estimator fit failed. The score on this train-test partition for these parameters will be set to nan. Details: \n",
      "ValueError: This solver needs samples of at least 2 classes in the data, but the data contains only one class: 0\n",
      "\n",
      "  FitFailedWarning)\n",
      "F:\\Downloads\\Anaconda\\lib\\site-packages\\sklearn\\model_selection\\_validation.py:536: FitFailedWarning: Estimator fit failed. The score on this train-test partition for these parameters will be set to nan. Details: \n",
      "ValueError: This solver needs samples of at least 2 classes in the data, but the data contains only one class: 0\n",
      "\n",
      "  FitFailedWarning)\n",
      "F:\\Downloads\\Anaconda\\lib\\site-packages\\sklearn\\model_selection\\_validation.py:536: FitFailedWarning: Estimator fit failed. The score on this train-test partition for these parameters will be set to nan. Details: \n",
      "ValueError: This solver needs samples of at least 2 classes in the data, but the data contains only one class: 0\n",
      "\n",
      "  FitFailedWarning)\n",
      "F:\\Downloads\\Anaconda\\lib\\site-packages\\sklearn\\model_selection\\_validation.py:536: FitFailedWarning: Estimator fit failed. The score on this train-test partition for these parameters will be set to nan. Details: \n",
      "ValueError: This solver needs samples of at least 2 classes in the data, but the data contains only one class: 0\n",
      "\n",
      "  FitFailedWarning)\n",
      "F:\\Downloads\\Anaconda\\lib\\site-packages\\sklearn\\model_selection\\_validation.py:536: FitFailedWarning: Estimator fit failed. The score on this train-test partition for these parameters will be set to nan. Details: \n",
      "ValueError: This solver needs samples of at least 2 classes in the data, but the data contains only one class: 0\n",
      "\n",
      "  FitFailedWarning)\n",
      "F:\\Downloads\\Anaconda\\lib\\site-packages\\sklearn\\model_selection\\_validation.py:536: FitFailedWarning: Estimator fit failed. The score on this train-test partition for these parameters will be set to nan. Details: \n",
      "ValueError: This solver needs samples of at least 2 classes in the data, but the data contains only one class: 0\n",
      "\n",
      "  FitFailedWarning)\n",
      "F:\\Downloads\\Anaconda\\lib\\site-packages\\sklearn\\model_selection\\_validation.py:536: FitFailedWarning: Estimator fit failed. The score on this train-test partition for these parameters will be set to nan. Details: \n",
      "ValueError: This solver needs samples of at least 2 classes in the data, but the data contains only one class: 0\n",
      "\n",
      "  FitFailedWarning)\n",
      "F:\\Downloads\\Anaconda\\lib\\site-packages\\sklearn\\model_selection\\_validation.py:536: FitFailedWarning: Estimator fit failed. The score on this train-test partition for these parameters will be set to nan. Details: \n",
      "ValueError: This solver needs samples of at least 2 classes in the data, but the data contains only one class: 0\n",
      "\n",
      "  FitFailedWarning)\n",
      "F:\\Downloads\\Anaconda\\lib\\site-packages\\sklearn\\model_selection\\_validation.py:536: FitFailedWarning: Estimator fit failed. The score on this train-test partition for these parameters will be set to nan. Details: \n",
      "ValueError: This solver needs samples of at least 2 classes in the data, but the data contains only one class: 0\n",
      "\n",
      "  FitFailedWarning)\n",
      "F:\\Downloads\\Anaconda\\lib\\site-packages\\sklearn\\model_selection\\_validation.py:536: FitFailedWarning: Estimator fit failed. The score on this train-test partition for these parameters will be set to nan. Details: \n",
      "ValueError: This solver needs samples of at least 2 classes in the data, but the data contains only one class: 0\n",
      "\n",
      "  FitFailedWarning)\n",
      "F:\\Downloads\\Anaconda\\lib\\site-packages\\sklearn\\model_selection\\_validation.py:536: FitFailedWarning: Estimator fit failed. The score on this train-test partition for these parameters will be set to nan. Details: \n",
      "ValueError: This solver needs samples of at least 2 classes in the data, but the data contains only one class: 0\n",
      "\n",
      "  FitFailedWarning)\n",
      "F:\\Downloads\\Anaconda\\lib\\site-packages\\sklearn\\model_selection\\_validation.py:536: FitFailedWarning: Estimator fit failed. The score on this train-test partition for these parameters will be set to nan. Details: \n",
      "ValueError: This solver needs samples of at least 2 classes in the data, but the data contains only one class: 0\n",
      "\n",
      "  FitFailedWarning)\n",
      "F:\\Downloads\\Anaconda\\lib\\site-packages\\sklearn\\model_selection\\_validation.py:536: FitFailedWarning: Estimator fit failed. The score on this train-test partition for these parameters will be set to nan. Details: \n",
      "ValueError: This solver needs samples of at least 2 classes in the data, but the data contains only one class: 0\n",
      "\n",
      "  FitFailedWarning)\n",
      "F:\\Downloads\\Anaconda\\lib\\site-packages\\sklearn\\model_selection\\_validation.py:536: FitFailedWarning: Estimator fit failed. The score on this train-test partition for these parameters will be set to nan. Details: \n",
      "ValueError: This solver needs samples of at least 2 classes in the data, but the data contains only one class: 0\n",
      "\n",
      "  FitFailedWarning)\n",
      "F:\\Downloads\\Anaconda\\lib\\site-packages\\sklearn\\model_selection\\_validation.py:536: FitFailedWarning: Estimator fit failed. The score on this train-test partition for these parameters will be set to nan. Details: \n",
      "ValueError: This solver needs samples of at least 2 classes in the data, but the data contains only one class: 0\n",
      "\n",
      "  FitFailedWarning)\n",
      "F:\\Downloads\\Anaconda\\lib\\site-packages\\sklearn\\model_selection\\_validation.py:536: FitFailedWarning: Estimator fit failed. The score on this train-test partition for these parameters will be set to nan. Details: \n",
      "ValueError: This solver needs samples of at least 2 classes in the data, but the data contains only one class: 0\n",
      "\n",
      "  FitFailedWarning)\n"
     ]
    },
    {
     "name": "stderr",
     "output_type": "stream",
     "text": [
      "F:\\Downloads\\Anaconda\\lib\\site-packages\\sklearn\\model_selection\\_validation.py:536: FitFailedWarning: Estimator fit failed. The score on this train-test partition for these parameters will be set to nan. Details: \n",
      "ValueError: This solver needs samples of at least 2 classes in the data, but the data contains only one class: 0\n",
      "\n",
      "  FitFailedWarning)\n",
      "F:\\Downloads\\Anaconda\\lib\\site-packages\\sklearn\\model_selection\\_validation.py:536: FitFailedWarning: Estimator fit failed. The score on this train-test partition for these parameters will be set to nan. Details: \n",
      "ValueError: This solver needs samples of at least 2 classes in the data, but the data contains only one class: 0\n",
      "\n",
      "  FitFailedWarning)\n",
      "F:\\Downloads\\Anaconda\\lib\\site-packages\\sklearn\\model_selection\\_validation.py:536: FitFailedWarning: Estimator fit failed. The score on this train-test partition for these parameters will be set to nan. Details: \n",
      "ValueError: This solver needs samples of at least 2 classes in the data, but the data contains only one class: 0\n",
      "\n",
      "  FitFailedWarning)\n",
      "F:\\Downloads\\Anaconda\\lib\\site-packages\\sklearn\\model_selection\\_validation.py:536: FitFailedWarning: Estimator fit failed. The score on this train-test partition for these parameters will be set to nan. Details: \n",
      "ValueError: This solver needs samples of at least 2 classes in the data, but the data contains only one class: 0\n",
      "\n",
      "  FitFailedWarning)\n",
      "F:\\Downloads\\Anaconda\\lib\\site-packages\\sklearn\\model_selection\\_validation.py:536: FitFailedWarning: Estimator fit failed. The score on this train-test partition for these parameters will be set to nan. Details: \n",
      "ValueError: This solver needs samples of at least 2 classes in the data, but the data contains only one class: 0\n",
      "\n",
      "  FitFailedWarning)\n",
      "F:\\Downloads\\Anaconda\\lib\\site-packages\\sklearn\\model_selection\\_validation.py:536: FitFailedWarning: Estimator fit failed. The score on this train-test partition for these parameters will be set to nan. Details: \n",
      "ValueError: This solver needs samples of at least 2 classes in the data, but the data contains only one class: 0\n",
      "\n",
      "  FitFailedWarning)\n"
     ]
    },
    {
     "name": "stdout",
     "output_type": "stream",
     "text": [
      "Mean training scores\n",
      "\n",
      " 3254          NaN\n",
      "6508          NaN\n",
      "9762          NaN\n",
      "13016         NaN\n",
      "16270         NaN\n",
      "19524         NaN\n",
      "22778    0.134015\n",
      "26032    0.242163\n",
      "29286    0.319941\n",
      "32540    0.370602\n",
      "dtype: float64\n",
      "\n",
      " --------------------\n",
      "\n",
      "Mean validation scores\n",
      "\n",
      " 3254          NaN\n",
      "6508          NaN\n",
      "9762          NaN\n",
      "13016         NaN\n",
      "16270         NaN\n",
      "19524         NaN\n",
      "22778    0.499980\n",
      "26032    0.497141\n",
      "29286    0.473192\n",
      "32540    0.439976\n",
      "dtype: float64\n"
     ]
    },
    {
     "data": {
      "image/png": "[encoded data removed]",
      "text/plain": [
       "<Figure size 576x396 with 1 Axes>"
      ]
     },
     "metadata": {},
     "output_type": "display_data"
    }
   ],
   "source": [
    "#Plotting the learning curve\n",
    "xData, yData = getFeaturesAndLabels(filDownSampledData)\n",
    "model = LogisticRegression(random_state = 27)\n",
    "draw_learning_curve(model=model, x=xData, labels=yData, cv=5, numTrainSizes=10, modelName=\"Logistic Regression Undersampled (filtered features)\")\n",
    "plt.show()"
   ]
  },
  {
   "cell_type": "markdown",
   "metadata": {},
   "source": [
    "#### SVM \n",
    "Running SVM for undersampled data"
   ]
  },
  {
   "cell_type": "code",
   "execution_count": null,
   "metadata": {},
   "outputs": [],
   "source": [
    "predictions, lr = trainAndPredictSVM(xTrainUnderSamp, yTrainUnderSamp, xTestUnderSamp, yTestUnderSamp)\n",
    "evaluateModel(yTestUnderSamp, predictions)"
   ]
  },
  {
   "cell_type": "code",
   "execution_count": null,
   "metadata": {},
   "outputs": [],
   "source": [
    "#Plotting the learning curve\n",
    "xData, yData = getFeaturesAndLabels(filDownSampledData)\n",
    "model = svm.LinearSVC(C=1, max_iter=1000)\n",
    "draw_learning_curve(model=model, x=xData, labels=yData, cv=5, numTrainSizes=10, modelName=\"SVM Undersampled (filtered features)\")\n",
    "plt.show()"
   ]
  },
  {
   "cell_type": "markdown",
   "metadata": {},
   "source": [
    "#### Random Forest\n",
    "Running Random forest for undersampled data"
   ]
  },
  {
   "cell_type": "code",
   "execution_count": null,
   "metadata": {},
   "outputs": [],
   "source": [
    "# Training and Predicting Random Forest Model\n",
    "predictions, rf = trainAndPredictRandomForest(xTrainUnderSamp, yTrainUnderSamp, xTestUnderSamp, yTestUnderSamp)\n",
    "evaluateModel(yTestUnderSamp, predictions) "
   ]
  },
  {
   "cell_type": "code",
   "execution_count": null,
   "metadata": {},
   "outputs": [],
   "source": [
    "#Plotting the learning curve\n",
    "xData, yData = getFeaturesAndLabels(filDownSampledData)\n",
    "model = RandomForestClassifier(n_estimators = 1000, max_depth = 10)\n",
    "draw_learning_curve(model=model, x=xData, labels=yData, cv=5, numTrainSizes=10, modelName=\"Random Forest Undersampled (filtered features)\")\n",
    "plt.show()"
   ]
  },
  {
   "cell_type": "markdown",
   "metadata": {},
   "source": [
    "### 7.2.2 Undersampling using important features data\n",
    "The important data found through Logistic Regression and Random Forest is only used"
   ]
  },
  {
   "cell_type": "code",
   "execution_count": null,
   "metadata": {},
   "outputs": [],
   "source": [
    "# Verifying counts for Defaulter and Non-Defaulter classes\n",
    "impDownSampledData = downsampleMajority(impNonDefaulters, impDefaulters)\n",
    "impDownSampledData.TARGET.value_counts()\n",
    "\n",
    "# Getting the undersampled train data and test data\n",
    "xTrainUnderSamp, xTestUnderSamp, yTrainUnderSamp, yTestUnderSamp = getTestTrainDownsampled(impDownSampledData)"
   ]
  },
  {
   "cell_type": "markdown",
   "metadata": {},
   "source": [
    "#### Logistic Regression\n",
    "Running logistic regression for undersampled data"
   ]
  },
  {
   "cell_type": "code",
   "execution_count": null,
   "metadata": {},
   "outputs": [],
   "source": [
    "# Training and Predicting Logistic Regression Model\n",
    "predictions, lr = trainAndPredictLogisticReg(xTrainUnderSamp, yTrainUnderSamp, xTestUnderSamp, yTestUnderSamp)\n",
    "evaluateModel(yTestUnderSamp, predictions)"
   ]
  },
  {
   "cell_type": "code",
   "execution_count": null,
   "metadata": {},
   "outputs": [],
   "source": [
    "#Plotting the learning curve\n",
    "xData, yData = getFeaturesAndLabels(impDownSampledData)\n",
    "model = LogisticRegression(random_state = 27)\n",
    "draw_learning_curve(model=model, x=xData, labels=yData, cv=5, numTrainSizes=20, modelName=\"Logistic Regression Undersampled (important features)\")\n",
    "plt.show()"
   ]
  },
  {
   "cell_type": "markdown",
   "metadata": {},
   "source": [
    "#### SVM \n",
    "Running SVM for undersampled data"
   ]
  },
  {
   "cell_type": "code",
   "execution_count": null,
   "metadata": {},
   "outputs": [],
   "source": [
    "predictions, lr = trainAndPredictSVM(xTrainUnderSamp, yTrainUnderSamp, xTestUnderSamp, yTestUnderSamp)\n",
    "evaluateModel(yTestUnderSamp, predictions)"
   ]
  },
  {
   "cell_type": "code",
   "execution_count": null,
   "metadata": {},
   "outputs": [],
   "source": [
    "#Plotting the learning curve\n",
    "xData, yData = getFeaturesAndLabels(impDownSampledData)\n",
    "model = svm.LinearSVC(C=1, max_iter=1000)\n",
    "draw_learning_curve(model=model, x=xData, labels=yData, cv=5, numTrainSizes=20, modelName=\"SVM Undersampled (important features)\")\n",
    "plt.show()"
   ]
  },
  {
   "cell_type": "markdown",
   "metadata": {},
   "source": [
    "#### Random Forest\n",
    "Running Random forest for undersampled data"
   ]
  },
  {
   "cell_type": "code",
   "execution_count": null,
   "metadata": {},
   "outputs": [],
   "source": [
    "# Training and Predicting Random Forest Model\n",
    "predictions, rf = trainAndPredictRandomForest(xTrainUnderSamp, yTrainUnderSamp, xTestUnderSamp, yTestUnderSamp)\n",
    "evaluateModel(yTestUnderSamp, predictions) "
   ]
  },
  {
   "cell_type": "code",
   "execution_count": null,
   "metadata": {},
   "outputs": [],
   "source": [
    "#Plotting the learning curve\n",
    "xData, yData = getFeaturesAndLabels(impDownSampledData)\n",
    "model = RandomForestClassifier(n_estimators = 1000, max_depth = 10)\n",
    "draw_learning_curve(model=model, x=xData, labels=yData, cv=5, numTrainSizes=20, modelName=\"Random Forest Undersampled (important features)\")\n",
    "plt.show()"
   ]
  },
  {
   "cell_type": "markdown",
   "metadata": {},
   "source": [
    "### 7.2.3 Undersampling using PCA data\n",
    "The reduced data after running PCA is used for performing undersampling"
   ]
  },
  {
   "cell_type": "code",
   "execution_count": null,
   "metadata": {},
   "outputs": [],
   "source": [
    "# Verifying counts for Defaulter and Non-Defaulter classes\n",
    "pcaDownSampledData = downsampleMajority(pcaNonDefaulters, pcaDefaulters)\n",
    "pcaDownSampledData.TARGET.value_counts()\n",
    "\n",
    "# Getting the undersampled train data and test data\n",
    "xTrainUnderSamp, xTestUnderSamp, yTrainUnderSamp, yTestUnderSamp = getTestTrainDownsampled(pcaDownSampledData)"
   ]
  },
  {
   "cell_type": "markdown",
   "metadata": {},
   "source": [
    "#### Logistic Regression\n",
    "Running logistic regression for undersampled data"
   ]
  },
  {
   "cell_type": "code",
   "execution_count": null,
   "metadata": {},
   "outputs": [],
   "source": [
    "# Training and Predicting Logistic Regression Model\n",
    "predictions, lr = trainAndPredictLogisticReg(xTrainUnderSamp, yTrainUnderSamp, xTestUnderSamp, yTestUnderSamp)\n",
    "evaluateModel(yTestUnderSamp, predictions)"
   ]
  },
  {
   "cell_type": "code",
   "execution_count": null,
   "metadata": {},
   "outputs": [],
   "source": [
    "#Plotting the learning curve\n",
    "xData, yData = getFeaturesAndLabels(pcaDownSampledData)\n",
    "model = LogisticRegression(random_state = 27)\n",
    "draw_learning_curve(model=model, x=xData, labels=yData, cv=5, numTrainSizes=20, modelName=\"Logistic Regression Undersampled (PCA features)\")\n",
    "plt.show()"
   ]
  },
  {
   "cell_type": "markdown",
   "metadata": {},
   "source": [
    "#### SVM \n",
    "Running SVM for undersampled data"
   ]
  },
  {
   "cell_type": "code",
   "execution_count": null,
   "metadata": {},
   "outputs": [],
   "source": [
    "predictions, lr = trainAndPredictSVM(xTrainUnderSamp, yTrainUnderSamp, xTestUnderSamp, yTestUnderSamp)\n",
    "evaluateModel(yTestUnderSamp, predictions)"
   ]
  },
  {
   "cell_type": "code",
   "execution_count": null,
   "metadata": {},
   "outputs": [],
   "source": [
    "#Plotting the learning curve\n",
    "xData, yData = getFeaturesAndLabels(pcaDownSampledData)\n",
    "model = svm.LinearSVC(C=1, max_iter=1000)\n",
    "draw_learning_curve(model=model, x=xData, labels=yData, cv=5, numTrainSizes=20, modelName=\"SVM Undersampled (PCA features)\")\n",
    "plt.show()"
   ]
  },
  {
   "cell_type": "markdown",
   "metadata": {},
   "source": [
    "#### Random Forest\n",
    "Running Random forest for undersampled data"
   ]
  },
  {
   "cell_type": "code",
   "execution_count": null,
   "metadata": {},
   "outputs": [],
   "source": [
    "# Training and Predicting Random Forest Model\n",
    "predictions, rf = trainAndPredictRandomForest(xTrainUnderSamp, yTrainUnderSamp, xTestUnderSamp, yTestUnderSamp)\n",
    "evaluateModel(yTestUnderSamp, predictions) "
   ]
  },
  {
   "cell_type": "code",
   "execution_count": null,
   "metadata": {},
   "outputs": [],
   "source": [
    "#Plotting the learning curve\n",
    "xData, yData = getFeaturesAndLabels(pcaDownSampledData)\n",
    "model = RandomForestClassifier(n_estimators = 1000, max_depth = 10)\n",
    "draw_learning_curve(model=model, x=xData, labels=yData, cv=5, numTrainSizes=20, modelName=\"Random Forest Undersampled (PCA features)\")\n",
    "plt.show()"
   ]
  },
  {
   "cell_type": "markdown",
   "metadata": {},
   "source": [
    "## 7.3 Oversampling Minority Class\n",
    "\n",
    "Oversampling is a method of adding duplicates from the minority class to make it equal to the size of the majority class.\n",
    "\n",
    "Oversampling is usually used when there is not a lot of data to work with. But let's try and see what happens in our dataset.\n",
    "\n",
    "(Source: https://towardsdatascience.com/methods-for-dealing-with-imbalanced-data-5b761be45a18)\n",
    "\n",
    "Important Note:\n",
    "We should always seperate the original dataset into test and train sets before performing oversampling. This is because the repetition in the data can allow the model to memorize specific data points which can lead to an overfit."
   ]
  },
  {
   "cell_type": "code",
   "execution_count": null,
   "metadata": {},
   "outputs": [],
   "source": [
    "def getTestTrainOversampled(data):    \n",
    "    # Split the data into features and labels\n",
    "    feats, labels = getFeaturesAndLabels(data)\n",
    "    \n",
    "    #Setting up the test and train data\n",
    "    trainFeatOverSamp, testFeatOverSamp, trainLabelsOverSamp, testLabelsOverSamp = train_test_split(feats, labels, test_size=0.33, random_state=27)\n",
    "\n",
    "    # Concatenate the training features and the labels \n",
    "    trainData = pd.concat([trainFeatOverSamp, trainLabelsOverSamp], axis = 1)    \n",
    "    \n",
    "    # Seperate the majority and the minority classes from the Train Dataset\n",
    "    trainDefaulters    = trainData[trainData.TARGET == 1] \n",
    "    trainNonDefaulters = trainData[trainData.TARGET == 0]\n",
    "    \n",
    "    # Upsampling the minority class in the train data\n",
    "    defaulters_upsampled = resample(trainDefaulters, # the dataset to scales up\n",
    "                                   replace = True, #resample with replacement\n",
    "                                    n_samples = len(trainNonDefaulters), #Num of majority class entries\n",
    "                                    random_state = 27) \n",
    "    upsampledData = pd.concat([trainNonDefaulters, defaulters_upsampled]) \n",
    "\n",
    "    #Verifying the number of entries for each class\n",
    "    upsampledData.TARGET.value_counts()\n",
    "\n",
    "    #Splitting the upsampled train data to features and labels\n",
    "    trainFeats, trainLabels = getFeaturesAndLabels(upsampledData)\n",
    "    return trainFeats, testFeatOverSamp, trainLabels, testLabelsOverSamp"
   ]
  },
  {
   "cell_type": "markdown",
   "metadata": {},
   "source": [
    "### 7.3.1 Oversampling using filtered features\n",
    "Using the data after peforming the data cleanup"
   ]
  },
  {
   "cell_type": "code",
   "execution_count": null,
   "metadata": {},
   "outputs": [],
   "source": [
    "# Getting the undersampled train data and test data\n",
    "xTrainOverSamp, xTestOverSamp, yTrainOverSamp, yTestOverSamp = getTestTrainOversampled(finalAppData)"
   ]
  },
  {
   "cell_type": "markdown",
   "metadata": {},
   "source": [
    "#### Logistic Regression\n",
    "Running logistic regression for oversampled data"
   ]
  },
  {
   "cell_type": "code",
   "execution_count": null,
   "metadata": {},
   "outputs": [],
   "source": [
    "# Training and Predicting Logistic Regression Model\n",
    "predictions, lr = trainAndPredictLogisticReg(xTrainOverSamp, yTrainOverSamp, xTestOverSamp, yTestOverSamp)\n",
    "evaluateModel(yTestOverSamp, predictions) "
   ]
  },
  {
   "cell_type": "code",
   "execution_count": null,
   "metadata": {},
   "outputs": [],
   "source": [
    "#Plotting the learning curve\n",
    "xData, yData = getFeaturesAndLabels(finalAppData)\n",
    "model = LogisticRegression(random_state = 27)\n",
    "draw_learning_curve(model=model, x=xData, labels=yData, cv=5, numTrainSizes=20, modelName=\"Logistic Regression oversampled (Filtered features)\")\n",
    "plt.show()"
   ]
  },
  {
   "cell_type": "markdown",
   "metadata": {},
   "source": [
    "#### SVM \n",
    "Running SVM for oversampled data"
   ]
  },
  {
   "cell_type": "code",
   "execution_count": null,
   "metadata": {},
   "outputs": [],
   "source": [
    "predictions, lr = trainAndPredictSVM(xTrainOverSamp, yTrainOverSamp, xTestOverSamp, yTestOverSamp)\n",
    "evaluateModel(yTestOverSamp, predictions)"
   ]
  },
  {
   "cell_type": "code",
   "execution_count": null,
   "metadata": {},
   "outputs": [],
   "source": [
    "#Plotting the learning curve\n",
    "xData, yData = getFeaturesAndLabels(finalAppData)\n",
    "model = svm.LinearSVC(C=1, max_iter=1000)\n",
    "draw_learning_curve(model=model, x=xData, labels=yData, cv=5, numTrainSizes=20, modelName=\"SVM oversampled (Filtered features)\")\n",
    "plt.show()"
   ]
  },
  {
   "cell_type": "markdown",
   "metadata": {},
   "source": [
    "#### Random Forest\n",
    "Running Random forest for oversampled data"
   ]
  },
  {
   "cell_type": "code",
   "execution_count": null,
   "metadata": {},
   "outputs": [],
   "source": [
    "# Training and Predicting Random Forest Model\n",
    "predictions, rf = trainAndPredictRandomForest(xTrainOverSamp, yTrainOverSamp, xTestOverSamp, yTestOverSamp)\n",
    "evaluateModel(yTestOverSamp, predictions) "
   ]
  },
  {
   "cell_type": "code",
   "execution_count": null,
   "metadata": {},
   "outputs": [],
   "source": [
    "#Plotting the learning curve\n",
    "xData, yData = getFeaturesAndLabels(finalAppData)\n",
    "model = RandomForestClassifier(n_estimators = 1000, max_depth = 10)\n",
    "draw_learning_curve(model=model, x=xData, labels=yData, cv=5, numTrainSizes=20, modelName=\"Random Forest oversampled (Filtered features)\")\n",
    "plt.show()"
   ]
  },
  {
   "cell_type": "markdown",
   "metadata": {},
   "source": [
    "### 7.3.2 Oversampling using important features data\n",
    "The important data found through Logistic Regression and Random Forest is only used"
   ]
  },
  {
   "cell_type": "code",
   "execution_count": null,
   "metadata": {},
   "outputs": [],
   "source": [
    "# Getting the undersampled train data and test data\n",
    "xTrainOverSamp, xTestOverSamp, yTrainOverSamp, yTestOverSamp = getTestTrainOversampled(importantData)"
   ]
  },
  {
   "cell_type": "markdown",
   "metadata": {},
   "source": [
    "#### Logistic Regression\n",
    "Running logistic regression for oversampled data"
   ]
  },
  {
   "cell_type": "code",
   "execution_count": null,
   "metadata": {},
   "outputs": [],
   "source": [
    "# Training and Predicting Logistic Regression Model\n",
    "predictions, lr = trainAndPredictLogisticReg(xTrainOverSamp, yTrainOverSamp, xTestOverSamp, yTestOverSamp)\n",
    "evaluateModel(yTestOverSamp, predictions) "
   ]
  },
  {
   "cell_type": "code",
   "execution_count": null,
   "metadata": {},
   "outputs": [],
   "source": [
    "#Plotting the learning curve\n",
    "xData, yData = getFeaturesAndLabels(importantData)\n",
    "model = LogisticRegression(random_state = 27)\n",
    "draw_learning_curve(model=model, x=xData, labels=yData, cv=5, numTrainSizes=20, modelName=\"Logistic Regression oversampled (Important features)\")\n",
    "plt.show()"
   ]
  },
  {
   "cell_type": "markdown",
   "metadata": {},
   "source": [
    "#### SVM \n",
    "Running SVM for oversampled data"
   ]
  },
  {
   "cell_type": "code",
   "execution_count": null,
   "metadata": {},
   "outputs": [],
   "source": [
    "predictions, lr = trainAndPredictSVM(xTrainOverSamp, yTrainOverSamp, xTestOverSamp, yTestOverSamp)\n",
    "evaluateModel(yTestOverSamp, predictions)"
   ]
  },
  {
   "cell_type": "code",
   "execution_count": null,
   "metadata": {},
   "outputs": [],
   "source": [
    "#Plotting the learning curve\n",
    "xData, yData = getFeaturesAndLabels(importantData)\n",
    "model = svm.LinearSVC(C=1, max_iter=1000)\n",
    "draw_learning_curve(model=model, x=xData, labels=yData, cv=5, numTrainSizes=20, modelName=\"SVM oversampled (Important features)\")\n",
    "plt.show()"
   ]
  },
  {
   "cell_type": "markdown",
   "metadata": {},
   "source": [
    "#### Random Forest\n",
    "Running Random forest for oversampled data"
   ]
  },
  {
   "cell_type": "code",
   "execution_count": null,
   "metadata": {},
   "outputs": [],
   "source": [
    "# Training and Predicting Random Forest Model\n",
    "predictions, rf = trainAndPredictRandomForest(xTrainOverSamp, yTrainOverSamp, xTestOverSamp, yTestOverSamp)\n",
    "evaluateModel(yTestOverSamp, predictions) "
   ]
  },
  {
   "cell_type": "code",
   "execution_count": null,
   "metadata": {},
   "outputs": [],
   "source": [
    "#Plotting the learning curve\n",
    "xData, yData = getFeaturesAndLabels(importantData)\n",
    "model = RandomForestClassifier(n_estimators = 1000, max_depth = 10)\n",
    "draw_learning_curve(model=model, x=xData, labels=yData, cv=5, numTrainSizes=20, modelName=\"Random Forest oversampled (Important features)\")\n",
    "plt.show()"
   ]
  },
  {
   "cell_type": "markdown",
   "metadata": {},
   "source": [
    "### 7.3.3 Oversampling using PCA data\n",
    "The reduced data after running PCA is used for performing oversampling"
   ]
  },
  {
   "cell_type": "code",
   "execution_count": null,
   "metadata": {},
   "outputs": [],
   "source": [
    "# Getting the undersampled train data and test data\n",
    "xTrainOverSamp, xTestOverSamp, yTrainOverSamp, yTestOverSamp = getTestTrainOversampled(pcaData)"
   ]
  },
  {
   "cell_type": "markdown",
   "metadata": {},
   "source": [
    "#### Logistic Regression\n",
    "Running logistic regression for oversampled data"
   ]
  },
  {
   "cell_type": "code",
   "execution_count": null,
   "metadata": {},
   "outputs": [],
   "source": [
    "# Training and Predicting Logistic Regression Model\n",
    "predictions, lr = trainAndPredictLogisticReg(xTrainOverSamp, yTrainOverSamp, xTestOverSamp, yTestOverSamp)\n",
    "evaluateModel(yTestOverSamp, predictions) "
   ]
  },
  {
   "cell_type": "code",
   "execution_count": null,
   "metadata": {},
   "outputs": [],
   "source": [
    "#Plotting the learning curve\n",
    "xData, yData = getFeaturesAndLabels(pcaData)\n",
    "model = LogisticRegression(random_state = 27)\n",
    "draw_learning_curve(model=model, x=xData, labels=yData, cv=5, numTrainSizes=20, modelName=\"Logistic Regression oversampled (PCA features)\")\n",
    "plt.show()"
   ]
  },
  {
   "cell_type": "markdown",
   "metadata": {},
   "source": [
    "#### SVM \n",
    "Running SVM for oversampled data"
   ]
  },
  {
   "cell_type": "code",
   "execution_count": null,
   "metadata": {},
   "outputs": [],
   "source": [
    "predictions, lr = trainAndPredictSVM(xTrainOverSamp, yTrainOverSamp, xTestOverSamp, yTestOverSamp)\n",
    "evaluateModel(yTestOverSamp, predictions)"
   ]
  },
  {
   "cell_type": "code",
   "execution_count": null,
   "metadata": {},
   "outputs": [],
   "source": [
    "#Plotting the learning curve\n",
    "xData, yData = getFeaturesAndLabels(pcaData)\n",
    "model = svm.LinearSVC(C=1, max_iter=1000)\n",
    "draw_learning_curve(model=model, x=xData, labels=yData, cv=5, numTrainSizes=20, modelName=\"SVM oversampled (PCA features)\")\n",
    "plt.show()"
   ]
  },
  {
   "cell_type": "markdown",
   "metadata": {},
   "source": [
    "#### Random Forest\n",
    "Running Random forest for oversampled data"
   ]
  },
  {
   "cell_type": "code",
   "execution_count": null,
   "metadata": {},
   "outputs": [],
   "source": [
    "# Training and Predicting Random Forest Model\n",
    "predictions, rf = trainAndPredictRandomForest(xTrainOverSamp, yTrainOverSamp, xTestOverSamp, yTestOverSamp)\n",
    "evaluateModel(yTestOverSamp, predictions) "
   ]
  },
  {
   "cell_type": "code",
   "execution_count": null,
   "metadata": {},
   "outputs": [],
   "source": [
    "#Plotting the learning curve\n",
    "xData, yData = getFeaturesAndLabels(pcaData)\n",
    "model = RandomForestClassifier(n_estimators = 1000, max_depth = 10)\n",
    "draw_learning_curve(model=model, x=xData, labels=yData, cv=5, numTrainSizes=20, modelName=\"Random Forest oversampled (PCA features)\")\n",
    "plt.show()"
   ]
  },
  {
   "cell_type": "markdown",
   "metadata": {},
   "source": [
    "## 7.4 Synthetic Data\n",
    "\n",
    "SMOTE oversamples the minority class by using nearest neighbours algorithm and generates new synthetic data which is used for model training.\n",
    "\n",
    "Important note: Similar to data oversampling, the data is splitted into test and training set at the beginning to avoid repetition in the data that can allow the model to memorize specific data points which can lead to an overfit."
   ]
  },
  {
   "cell_type": "code",
   "execution_count": null,
   "metadata": {},
   "outputs": [],
   "source": [
    "def getTestTrainSynthetic(data):\n",
    "    # Split the data into features and labels\n",
    "    x, y = getFeaturesAndLabels(data)\n",
    "\n",
    "    # setting up testing and training sets\n",
    "    X_train, X_test, y_train, y_test = train_test_split(x, y, test_size=0.33, random_state=27)\n",
    "\n",
    "    sm = SMOTE(random_state=27)\n",
    "    #Running SMOTE on training set \n",
    "    # Upsampling the minority defaulter class by generating new samples\n",
    "    X_train, y_train = sm.fit_sample(X_train, y_train)\n",
    "    \n",
    "    return X_train, X_test, y_train, y_test"
   ]
  },
  {
   "cell_type": "markdown",
   "metadata": {},
   "source": [
    "### 7.4.1 Generating synthetic data using filtered features\n",
    "Using the data after peforming the data cleanup"
   ]
  },
  {
   "cell_type": "code",
   "execution_count": null,
   "metadata": {},
   "outputs": [],
   "source": [
    "# Training and Predicting Random Forest Model\n",
    "predictions, rf = trainAndPredictRandomForest(xTrainOverSamp, yTrainOverSamp, xTestOverSamp, yTestOverSamp)\n",
    "evaluateModel(yTestOverSamp, predictions) "
   ]
  },
  {
   "cell_type": "code",
   "execution_count": null,
   "metadata": {},
   "outputs": [],
   "source": [
    "# Getting the train data and test data after creating synthetic data\n",
    "xTrainSynthetic, xTestSynthetic, yTrainSynthetic, yTestSynthetic = getTestTrainSynthetic(finalAppData)"
   ]
  },
  {
   "cell_type": "markdown",
   "metadata": {},
   "source": [
    "#### Logistic Regression\n",
    "Running logistic regression for synthetic data"
   ]
  },
  {
   "cell_type": "code",
   "execution_count": null,
   "metadata": {},
   "outputs": [],
   "source": [
    "# Training and Predicting Logistic Regression Model\n",
    "predictions, lr = trainAndPredictLogisticReg(xTrainSynthetic, yTrainSynthetic, xTestSynthetic, yTestSynthetic)\n",
    "evaluateModel(yTestSynthetic, predictions)"
   ]
  },
  {
   "cell_type": "code",
   "execution_count": null,
   "metadata": {},
   "outputs": [],
   "source": [
    "#Plotting the learning curve\n",
    "xData, yData = getFeaturesAndLabels(finalAppData)\n",
    "model = LogisticRegression(random_state = 27)\n",
    "draw_learning_curve(model=model, x=xData, labels=yData, cv=5, numTrainSizes=20, modelName=\"Logistic Regression synthetic (Filtered features)\")\n",
    "plt.show()"
   ]
  },
  {
   "cell_type": "markdown",
   "metadata": {},
   "source": [
    "#### SVM \n",
    "Running SVM for synthetic data"
   ]
  },
  {
   "cell_type": "code",
   "execution_count": null,
   "metadata": {},
   "outputs": [],
   "source": [
    "predictions, lr = trainAndPredictSVM(xTrainSynthetic, yTrainSynthetic, xTestSynthetic, yTestSynthetic)\n",
    "evaluateModel(yTestSynthetic, predictions)"
   ]
  },
  {
   "cell_type": "code",
   "execution_count": null,
   "metadata": {},
   "outputs": [],
   "source": [
    "#Plotting the learning curve\n",
    "xData, yData = getFeaturesAndLabels(finalAppData)\n",
    "model = svm.LinearSVC(C=1, max_iter=1000)\n",
    "draw_learning_curve(model=model, x=xData, labels=yData, cv=5, numTrainSizes=20, modelName=\"SVM synthetic (Filtered features)\")\n",
    "plt.show()"
   ]
  },
  {
   "cell_type": "markdown",
   "metadata": {},
   "source": [
    "#### Random Forest\n",
    "Running Random forest for synthetic data"
   ]
  },
  {
   "cell_type": "code",
   "execution_count": null,
   "metadata": {},
   "outputs": [],
   "source": [
    "# Training and Predicting Random Forest Model\n",
    "predictions, rf = trainAndPredictRandomForest(xTrainSynthetic, yTrainSynthetic, xTestSynthetic, yTestSynthetic)\n",
    "evaluateModel(yTestSynthetic, predictions) "
   ]
  },
  {
   "cell_type": "code",
   "execution_count": null,
   "metadata": {},
   "outputs": [],
   "source": [
    "#Plotting the learning curve\n",
    "xData, yData = getFeaturesAndLabels(finalAppData)\n",
    "model = RandomForestClassifier(n_estimators = 1000, max_depth = 10)\n",
    "draw_learning_curve(model=model, x=xData, labels=yData, cv=5, numTrainSizes=20, modelName=\"Random forest synthetic (Filtered features)\")\n",
    "plt.show()"
   ]
  },
  {
   "cell_type": "markdown",
   "metadata": {},
   "source": [
    "### 7.4.2 Generating synthetic data using important features data\n",
    "The important data found through Logistic Regression and Random Forest is only used"
   ]
  },
  {
   "cell_type": "code",
   "execution_count": null,
   "metadata": {},
   "outputs": [],
   "source": [
    "# Getting the train data and test data after creating synthetic data\n",
    "xTrainSynthetic, xTestSynthetic, yTrainSynthetic, yTestSynthetic = getTestTrainSynthetic(importantData)"
   ]
  },
  {
   "cell_type": "markdown",
   "metadata": {},
   "source": [
    "#### Logistic Regression\n",
    "Running logistic regression for synthetic data"
   ]
  },
  {
   "cell_type": "code",
   "execution_count": null,
   "metadata": {},
   "outputs": [],
   "source": [
    "# Training and Predicting Logistic Regression Model\n",
    "predictions, lr = trainAndPredictLogisticReg(xTrainSynthetic, yTrainSynthetic, xTestSynthetic, yTestSynthetic)\n",
    "evaluateModel(yTestSynthetic, predictions)"
   ]
  },
  {
   "cell_type": "code",
   "execution_count": null,
   "metadata": {},
   "outputs": [],
   "source": [
    "#Plotting the learning curve\n",
    "xData, yData = getFeaturesAndLabels(importantData)\n",
    "model = LogisticRegression(random_state = 27)\n",
    "draw_learning_curve(model=model, x=xData, labels=yData, cv=5, numTrainSizes=20, modelName=\"Logistic Regression synthetic (Important features)\")\n",
    "plt.show()"
   ]
  },
  {
   "cell_type": "markdown",
   "metadata": {},
   "source": [
    "#### SVM \n",
    "Running SVM for synthetic data"
   ]
  },
  {
   "cell_type": "code",
   "execution_count": null,
   "metadata": {},
   "outputs": [],
   "source": [
    "predictions, lr = trainAndPredictSVM(xTrainSynthetic, yTrainSynthetic, xTestSynthetic, yTestSynthetic)\n",
    "evaluateModel(yTestSynthetic, predictions)"
   ]
  },
  {
   "cell_type": "code",
   "execution_count": null,
   "metadata": {},
   "outputs": [],
   "source": [
    "#Plotting the learning curve\n",
    "xData, yData = getFeaturesAndLabels(importantData)\n",
    "model = svm.LinearSVC(C=1, max_iter=1000)\n",
    "draw_learning_curve(model=model, x=xData, labels=yData, cv=5, numTrainSizes=20, modelName=\"SVM synthetic (Important features)\")\n",
    "plt.show()"
   ]
  },
  {
   "cell_type": "markdown",
   "metadata": {},
   "source": [
    "#### Random Forest\n",
    "Running Random forest for synthetic data"
   ]
  },
  {
   "cell_type": "code",
   "execution_count": null,
   "metadata": {},
   "outputs": [],
   "source": [
    "# Training and Predicting Random Forest Model\n",
    "predictions, rf = trainAndPredictRandomForest(xTrainSynthetic, yTrainSynthetic, xTestSynthetic, yTestSynthetic)\n",
    "evaluateModel(yTestSynthetic, predictions) "
   ]
  },
  {
   "cell_type": "code",
   "execution_count": null,
   "metadata": {},
   "outputs": [],
   "source": [
    "#Plotting the learning curve\n",
    "xData, yData = getFeaturesAndLabels(importantData)\n",
    "model = RandomForestClassifier(n_estimators = 1000, max_depth = 10)\n",
    "draw_learning_curve(model=model, x=xData, labels=yData, cv=5, numTrainSizes=20, modelName=\"Random Forest synthetic (Important features)\")\n",
    "plt.show()"
   ]
  },
  {
   "cell_type": "markdown",
   "metadata": {},
   "source": [
    "### 7.4.3 Generating synthetic data using PCA data\n",
    "The reduced data after running PCA is used for generation of synthetic data"
   ]
  },
  {
   "cell_type": "code",
   "execution_count": null,
   "metadata": {},
   "outputs": [],
   "source": [
    "# Getting the train data and test data after creating synthetic data\n",
    "xTrainSynthetic, xTestSynthetic, yTrainSynthetic, yTestSynthetic = getTestTrainSynthetic(pcaData)"
   ]
  },
  {
   "cell_type": "markdown",
   "metadata": {},
   "source": [
    "#### Logistic Regression\n",
    "Running logistic regression for synthetic data"
   ]
  },
  {
   "cell_type": "code",
   "execution_count": null,
   "metadata": {},
   "outputs": [],
   "source": [
    "# Training and Predicting Logistic Regression Model\n",
    "predictions, lr = trainAndPredictLogisticReg(xTrainSynthetic, yTrainSynthetic, xTestSynthetic, yTestSynthetic)\n",
    "evaluateModel(yTestSynthetic, predictions)"
   ]
  },
  {
   "cell_type": "code",
   "execution_count": null,
   "metadata": {},
   "outputs": [],
   "source": [
    "#Plotting the learning curve\n",
    "xData, yData = getFeaturesAndLabels(pcaData)\n",
    "model = LogisticRegression(random_state = 27)\n",
    "draw_learning_curve(model=model, x=xData, labels=yData, cv=5, numTrainSizes=20, modelName=\"Logistic Regression synthetic (PCA features)\")\n",
    "plt.show()"
   ]
  },
  {
   "cell_type": "markdown",
   "metadata": {},
   "source": [
    "#### SVM \n",
    "Running SVM for synthetic data"
   ]
  },
  {
   "cell_type": "code",
   "execution_count": null,
   "metadata": {},
   "outputs": [],
   "source": [
    "predictions, lr = trainAndPredictSVM(xTrainSynthetic, yTrainSynthetic, xTestSynthetic, yTestSynthetic)\n",
    "evaluateModel(yTestSynthetic, predictions)"
   ]
  },
  {
   "cell_type": "code",
   "execution_count": null,
   "metadata": {},
   "outputs": [],
   "source": [
    "#Plotting the learning curve\n",
    "xData, yData = getFeaturesAndLabels(pcaData)\n",
    "model = svm.LinearSVC(C=1, max_iter=1000)\n",
    "draw_learning_curve(model=model, x=xData, labels=yData, cv=5, numTrainSizes=20, modelName=\"SVM synthetic (PCA features)\")\n",
    "plt.show()"
   ]
  },
  {
   "cell_type": "markdown",
   "metadata": {},
   "source": [
    "#### Random Forest\n",
    "Running Random forest for synthetic data"
   ]
  },
  {
   "cell_type": "code",
   "execution_count": null,
   "metadata": {},
   "outputs": [],
   "source": [
    "# Training and Predicting Random Forest Model\n",
    "predictions, rf = trainAndPredictRandomForest(xTrainSynthetic, yTrainSynthetic, xTestSynthetic, yTestSynthetic)\n",
    "evaluateModel(yTestSynthetic, predictions) "
   ]
  },
  {
   "cell_type": "code",
   "execution_count": null,
   "metadata": {},
   "outputs": [],
   "source": [
    "#Plotting the learning curve\n",
    "xData, yData = getFeaturesAndLabels(pcaData)\n",
    "model = RandomForestClassifier(n_estimators = 1000, max_depth = 10)\n",
    "draw_learning_curve(model=model, x=xData, labels=yData, cv=5, numTrainSizes=20, modelName=\"Random Forest synthetic (PCA features)\")\n",
    "plt.show()"
   ]
  },
  {
   "cell_type": "code",
   "execution_count": null,
   "metadata": {},
   "outputs": [],
   "source": []
  }
 ],
 "metadata": {
  "kernelspec": {
   "display_name": "Python 3",
   "language": "python",
   "name": "python3"
  },
  "language_info": {
   "codemirror_mode": {
    "name": "ipython",
    "version": 3
   },
   "file_extension": ".py",
   "mimetype": "text/x-python",
   "name": "python",
   "nbconvert_exporter": "python",
   "pygments_lexer": "ipython3",
   "version": "3.7.4"
  }
 },
 "nbformat": 4,
 "nbformat_minor": 2
}
